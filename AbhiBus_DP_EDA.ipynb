{
  "nbformat": 4,
  "nbformat_minor": 0,
  "metadata": {
    "colab": {
      "name": "AbhiBus_DP_EDA",
      "version": "0.3.2",
      "provenance": [],
      "collapsed_sections": [],
      "toc_visible": true
    },
    "kernelspec": {
      "name": "python3",
      "display_name": "Python 3"
    },
    "accelerator": "GPU"
  },
  "cells": [
    {
      "cell_type": "markdown",
      "metadata": {
        "id": "EWv7GP9TfJKd",
        "colab_type": "text"
      },
      "source": [
        "# Abhibus Project"
      ]
    },
    {
      "cell_type": "markdown",
      "metadata": {
        "id": "9rzGze1BfYPD",
        "colab_type": "text"
      },
      "source": [
        "**Abhibus Phase-1 :**  Phase 1 includes segmentation based on the Pattern, Offer and RFM segmentation"
      ]
    },
    {
      "cell_type": "markdown",
      "metadata": {
        "id": "nLT0aA5HiDTn",
        "colab_type": "text"
      },
      "source": [
        "# Importing the Dataset from Google Drive"
      ]
    },
    {
      "cell_type": "code",
      "metadata": {
        "id": "eiIZsUg1e2e4",
        "colab_type": "code",
        "colab": {}
      },
      "source": [
        "# Importing the necessary packages\n",
        "import pandas as pd\n",
        "import numpy as np\n",
        "import matplotlib.pyplot as plt"
      ],
      "execution_count": 0,
      "outputs": []
    },
    {
      "cell_type": "code",
      "metadata": {
        "id": "j7ZqcVLpiU2M",
        "colab_type": "code",
        "outputId": "fdc60298-558d-4814-d14c-cb4723482e61",
        "colab": {
          "base_uri": "https://localhost:8080/",
          "height": 51
        }
      },
      "source": [
        "!pip install -U -q PyDrive\n",
        "from pydrive.auth import GoogleAuth\n",
        "from pydrive.drive import GoogleDrive\n",
        "from google.colab import auth\n",
        "from oauth2client.client import GoogleCredentials\n",
        "# Authenticate and create the PyDrive client.\n",
        "auth.authenticate_user()\n",
        "gauth = GoogleAuth()\n",
        "gauth.credentials = GoogleCredentials.get_application_default()\n",
        "drive = GoogleDrive(gauth)"
      ],
      "execution_count": 0,
      "outputs": [
        {
          "output_type": "stream",
          "text": [
            "\u001b[?25l\r\u001b[K     |▎                               | 10kB 21.7MB/s eta 0:00:01\r\u001b[K     |▋                               | 20kB 3.3MB/s eta 0:00:01\r\u001b[K     |█                               | 30kB 4.8MB/s eta 0:00:01\r\u001b[K     |█▎                              | 40kB 3.1MB/s eta 0:00:01\r\u001b[K     |█▋                              | 51kB 3.8MB/s eta 0:00:01\r\u001b[K     |██                              | 61kB 4.5MB/s eta 0:00:01\r\u001b[K     |██▎                             | 71kB 5.1MB/s eta 0:00:01\r\u001b[K     |██▋                             | 81kB 5.8MB/s eta 0:00:01\r\u001b[K     |███                             | 92kB 6.4MB/s eta 0:00:01\r\u001b[K     |███▎                            | 102kB 4.9MB/s eta 0:00:01\r\u001b[K     |███▋                            | 112kB 4.9MB/s eta 0:00:01\r\u001b[K     |████                            | 122kB 4.9MB/s eta 0:00:01\r\u001b[K     |████▎                           | 133kB 4.9MB/s eta 0:00:01\r\u001b[K     |████▋                           | 143kB 4.9MB/s eta 0:00:01\r\u001b[K     |█████                           | 153kB 4.9MB/s eta 0:00:01\r\u001b[K     |█████▎                          | 163kB 4.9MB/s eta 0:00:01\r\u001b[K     |█████▋                          | 174kB 4.9MB/s eta 0:00:01\r\u001b[K     |██████                          | 184kB 4.9MB/s eta 0:00:01\r\u001b[K     |██████▎                         | 194kB 4.9MB/s eta 0:00:01\r\u001b[K     |██████▋                         | 204kB 4.9MB/s eta 0:00:01\r\u001b[K     |███████                         | 215kB 4.9MB/s eta 0:00:01\r\u001b[K     |███████▎                        | 225kB 4.9MB/s eta 0:00:01\r\u001b[K     |███████▋                        | 235kB 4.9MB/s eta 0:00:01\r\u001b[K     |████████                        | 245kB 4.9MB/s eta 0:00:01\r\u001b[K     |████████▎                       | 256kB 4.9MB/s eta 0:00:01\r\u001b[K     |████████▋                       | 266kB 4.9MB/s eta 0:00:01\r\u001b[K     |█████████                       | 276kB 4.9MB/s eta 0:00:01\r\u001b[K     |█████████▎                      | 286kB 4.9MB/s eta 0:00:01\r\u001b[K     |█████████▋                      | 296kB 4.9MB/s eta 0:00:01\r\u001b[K     |██████████                      | 307kB 4.9MB/s eta 0:00:01\r\u001b[K     |██████████▎                     | 317kB 4.9MB/s eta 0:00:01\r\u001b[K     |██████████▋                     | 327kB 4.9MB/s eta 0:00:01\r\u001b[K     |███████████                     | 337kB 4.9MB/s eta 0:00:01\r\u001b[K     |███████████▎                    | 348kB 4.9MB/s eta 0:00:01\r\u001b[K     |███████████▋                    | 358kB 4.9MB/s eta 0:00:01\r\u001b[K     |████████████                    | 368kB 4.9MB/s eta 0:00:01\r\u001b[K     |████████████▎                   | 378kB 4.9MB/s eta 0:00:01\r\u001b[K     |████████████▋                   | 389kB 4.9MB/s eta 0:00:01\r\u001b[K     |█████████████                   | 399kB 4.9MB/s eta 0:00:01\r\u001b[K     |█████████████▎                  | 409kB 4.9MB/s eta 0:00:01\r\u001b[K     |█████████████▋                  | 419kB 4.9MB/s eta 0:00:01\r\u001b[K     |██████████████                  | 430kB 4.9MB/s eta 0:00:01\r\u001b[K     |██████████████▎                 | 440kB 4.9MB/s eta 0:00:01\r\u001b[K     |██████████████▋                 | 450kB 4.9MB/s eta 0:00:01\r\u001b[K     |███████████████                 | 460kB 4.9MB/s eta 0:00:01\r\u001b[K     |███████████████▎                | 471kB 4.9MB/s eta 0:00:01\r\u001b[K     |███████████████▋                | 481kB 4.9MB/s eta 0:00:01\r\u001b[K     |████████████████                | 491kB 4.9MB/s eta 0:00:01\r\u001b[K     |████████████████▎               | 501kB 4.9MB/s eta 0:00:01\r\u001b[K     |████████████████▋               | 512kB 4.9MB/s eta 0:00:01\r\u001b[K     |█████████████████               | 522kB 4.9MB/s eta 0:00:01\r\u001b[K     |█████████████████▎              | 532kB 4.9MB/s eta 0:00:01\r\u001b[K     |█████████████████▋              | 542kB 4.9MB/s eta 0:00:01\r\u001b[K     |██████████████████              | 552kB 4.9MB/s eta 0:00:01\r\u001b[K     |██████████████████▎             | 563kB 4.9MB/s eta 0:00:01\r\u001b[K     |██████████████████▋             | 573kB 4.9MB/s eta 0:00:01\r\u001b[K     |███████████████████             | 583kB 4.9MB/s eta 0:00:01\r\u001b[K     |███████████████████▎            | 593kB 4.9MB/s eta 0:00:01\r\u001b[K     |███████████████████▋            | 604kB 4.9MB/s eta 0:00:01\r\u001b[K     |████████████████████            | 614kB 4.9MB/s eta 0:00:01\r\u001b[K     |████████████████████▎           | 624kB 4.9MB/s eta 0:00:01\r\u001b[K     |████████████████████▋           | 634kB 4.9MB/s eta 0:00:01\r\u001b[K     |█████████████████████           | 645kB 4.9MB/s eta 0:00:01\r\u001b[K     |█████████████████████▎          | 655kB 4.9MB/s eta 0:00:01\r\u001b[K     |█████████████████████▋          | 665kB 4.9MB/s eta 0:00:01\r\u001b[K     |██████████████████████          | 675kB 4.9MB/s eta 0:00:01\r\u001b[K     |██████████████████████▎         | 686kB 4.9MB/s eta 0:00:01\r\u001b[K     |██████████████████████▋         | 696kB 4.9MB/s eta 0:00:01\r\u001b[K     |███████████████████████         | 706kB 4.9MB/s eta 0:00:01\r\u001b[K     |███████████████████████▎        | 716kB 4.9MB/s eta 0:00:01\r\u001b[K     |███████████████████████▋        | 727kB 4.9MB/s eta 0:00:01\r\u001b[K     |████████████████████████        | 737kB 4.9MB/s eta 0:00:01\r\u001b[K     |████████████████████████▎       | 747kB 4.9MB/s eta 0:00:01\r\u001b[K     |████████████████████████▋       | 757kB 4.9MB/s eta 0:00:01\r\u001b[K     |████████████████████████▉       | 768kB 4.9MB/s eta 0:00:01\r\u001b[K     |█████████████████████████▏      | 778kB 4.9MB/s eta 0:00:01\r\u001b[K     |█████████████████████████▌      | 788kB 4.9MB/s eta 0:00:01\r\u001b[K     |█████████████████████████▉      | 798kB 4.9MB/s eta 0:00:01\r\u001b[K     |██████████████████████████▏     | 808kB 4.9MB/s eta 0:00:01\r\u001b[K     |██████████████████████████▌     | 819kB 4.9MB/s eta 0:00:01\r\u001b[K     |██████████████████████████▉     | 829kB 4.9MB/s eta 0:00:01\r\u001b[K     |███████████████████████████▏    | 839kB 4.9MB/s eta 0:00:01\r\u001b[K     |███████████████████████████▌    | 849kB 4.9MB/s eta 0:00:01\r\u001b[K     |███████████████████████████▉    | 860kB 4.9MB/s eta 0:00:01\r\u001b[K     |████████████████████████████▏   | 870kB 4.9MB/s eta 0:00:01\r\u001b[K     |████████████████████████████▌   | 880kB 4.9MB/s eta 0:00:01\r\u001b[K     |████████████████████████████▉   | 890kB 4.9MB/s eta 0:00:01\r\u001b[K     |█████████████████████████████▏  | 901kB 4.9MB/s eta 0:00:01\r\u001b[K     |█████████████████████████████▌  | 911kB 4.9MB/s eta 0:00:01\r\u001b[K     |█████████████████████████████▉  | 921kB 4.9MB/s eta 0:00:01\r\u001b[K     |██████████████████████████████▏ | 931kB 4.9MB/s eta 0:00:01\r\u001b[K     |██████████████████████████████▌ | 942kB 4.9MB/s eta 0:00:01\r\u001b[K     |██████████████████████████████▉ | 952kB 4.9MB/s eta 0:00:01\r\u001b[K     |███████████████████████████████▏| 962kB 4.9MB/s eta 0:00:01\r\u001b[K     |███████████████████████████████▌| 972kB 4.9MB/s eta 0:00:01\r\u001b[K     |███████████████████████████████▉| 983kB 4.9MB/s eta 0:00:01\r\u001b[K     |████████████████████████████████| 993kB 4.9MB/s \n",
            "\u001b[?25h  Building wheel for PyDrive (setup.py) ... \u001b[?25l\u001b[?25hdone\n"
          ],
          "name": "stdout"
        }
      ]
    },
    {
      "cell_type": "code",
      "metadata": {
        "id": "bXRkvkw6lNDK",
        "colab_type": "code",
        "outputId": "2fc92cbd-8403-4631-b383-60fa83a931a6",
        "colab": {
          "base_uri": "https://localhost:8080/",
          "height": 34
        }
      },
      "source": [
        "# inseting the sharable link into \"link\" variable\n",
        "link = 'https://drive.google.com/open?id=1GBbtiSKnq4cmRIIbi7r6fMSVKRQJkDSk'\n",
        "fluff, id = link.split('=')\n",
        "print (id) # Verify that you have everything after '='"
      ],
      "execution_count": 0,
      "outputs": [
        {
          "output_type": "stream",
          "text": [
            "1GBbtiSKnq4cmRIIbi7r6fMSVKRQJkDSk\n"
          ],
          "name": "stdout"
        }
      ]
    },
    {
      "cell_type": "code",
      "metadata": {
        "id": "HtdHFzuel0eZ",
        "colab_type": "code",
        "outputId": "61c04bbe-1772-4976-b2cf-1d63426965e0",
        "colab": {
          "base_uri": "https://localhost:8080/",
          "height": 207
        }
      },
      "source": [
        "# Fecthing the dataset from Google Drive\n",
        "downloaded = drive.CreateFile({'id':id}) \n",
        "downloaded.GetContentFile('Filename.csv')  \n",
        "columns = ['PNR','Source','Destination','DOJ','OperatorName','BusType','ServiceType','BoardingPoint','BoardingTime','DroppoingPoint',\n",
        "          'DroppingTime','Email','Mobile','Age','Gender','Insurance','insurance_amount','CouponCode','Discount_Amt','WalletAmountRedemeed',\n",
        "          'PGAmount','PGType','GSTAmount','ServiceCharge','TicketAmount','No_Of_Seats','BookingPlatform','BookedDate','BookingTime',\n",
        "          'CancellationDate','CancellationTime','CancelledSeats','CancellationAmount','RefundGSTAmount','CustomerId','EdgeOfferAmount',\n",
        "          'APISource','Abhiid','Earnings','ReferenceNo']\n",
        "\n",
        "dataset = pd.read_csv('Filename.csv', names = columns)\n",
        "print(dataset.head(5))"
      ],
      "execution_count": 0,
      "outputs": [
        {
          "output_type": "stream",
          "text": [
            "/usr/local/lib/python3.6/dist-packages/IPython/core/interactiveshell.py:2718: DtypeWarning: Columns (12,29,30) have mixed types. Specify dtype option on import or set low_memory=False.\n",
            "  interactivity=interactivity, compiler=compiler, result=result)\n"
          ],
          "name": "stderr"
        },
        {
          "output_type": "stream",
          "text": [
            "             PNR     Source  Destination  ... Abhiid Earnings ReferenceNo\n",
            "0     DWK1260604  Tadipatri    Hyderabad  ...      6        0         NaN\n",
            "1     DWK1261003  Hyderabad    Tadipatri  ...      6        0         NaN\n",
            "2     DWK1262071  Hyderabad    Tadipatri  ...      6        0         NaN\n",
            "3  KAVERI2306276  Hyderabad  Ravulapalem  ...      6        0         NaN\n",
            "4  KAVERI2313805  Hyderabad  Ganapavaram  ...      6        0         NaN\n",
            "\n",
            "[5 rows x 40 columns]\n"
          ],
          "name": "stdout"
        }
      ]
    },
    {
      "cell_type": "markdown",
      "metadata": {
        "id": "62ofgOMCo5EK",
        "colab_type": "text"
      },
      "source": [
        "# Dataset Analysis and Observation"
      ]
    },
    {
      "cell_type": "code",
      "metadata": {
        "id": "SzpL5U-gpRKV",
        "colab_type": "code",
        "outputId": "5e443b26-7509-445c-a4d0-bfb7e55ffd1c",
        "colab": {
          "base_uri": "https://localhost:8080/",
          "height": 289
        }
      },
      "source": [
        "# Observing the Dataset \n",
        "data = dataset\n",
        "\n",
        "# Shape of Dataset\n",
        "print(\"Shape of Dataset is : \", data.shape)\n",
        "print(\"\\n\")\n",
        "# Features of Dataset\n",
        "print(\"Featues/Columns in Dataset :\", data.columns)\n",
        "print(\"\\n\")\n",
        "# Number of Features in Dataset\n",
        "print(\"Number of Feature/Column in the Dataset :\", len(dataset.columns))"
      ],
      "execution_count": 0,
      "outputs": [
        {
          "output_type": "stream",
          "text": [
            "Shape of Dataset is :  (1012722, 40)\n",
            "\n",
            "\n",
            "Featues/Columns in Dataset : Index(['PNR', 'Source', 'Destination', 'DOJ', 'OperatorName', 'BusType',\n",
            "       'ServiceType', 'BoardingPoint', 'BoardingTime', 'DroppoingPoint',\n",
            "       'DroppingTime', 'Email', 'Mobile', 'Age', 'Gender', 'Insurance',\n",
            "       'insurance_amount', 'CouponCode', 'Discount_Amt',\n",
            "       'WalletAmountRedemeed', 'PGAmount', 'PGType', 'GSTAmount',\n",
            "       'ServiceCharge', 'TicketAmount', 'No_Of_Seats', 'BookingPlatform',\n",
            "       'BookedDate', 'BookingTime', 'CancellationDate', 'CancellationTime',\n",
            "       'CancelledSeats', 'CancellationAmount', 'RefundGSTAmount', 'CustomerId',\n",
            "       'EdgeOfferAmount', 'APISource', 'Abhiid', 'Earnings', 'ReferenceNo'],\n",
            "      dtype='object')\n",
            "\n",
            "\n",
            "Number of Feature/Column in the Dataset : 40\n"
          ],
          "name": "stdout"
        }
      ]
    },
    {
      "cell_type": "code",
      "metadata": {
        "id": "LU5DHpfwroQU",
        "colab_type": "code",
        "outputId": "b81cf48c-4048-435b-e0d5-be9846854e68",
        "colab": {
          "base_uri": "https://localhost:8080/",
          "height": 644
        }
      },
      "source": [
        "# Checking wheter dataset contain the NULL or NaN values in dataset or not\n",
        "print(\"Dataset contain the NaN or Null Values =\\t\",data.isnull().values.any())\n",
        "\n",
        "# Checking the NaN or Null present in the datast irrespective of Features\n",
        "print(\"Count of NaN or Null values in Dataset =\\t\", data.isnull().sum().sum())\n",
        "\n",
        "# Checking the Nan or Null Values w.r.t column\n",
        "columns=data.columns[data.isnull().any()]\n",
        "print(\"Column containing NaN/Null values \\t\",columns)\n",
        "\n",
        "print(\"\\n \\n Count of NULL present in dataset w.r.t column \\n\",data[columns].isnull().sum())\n",
        "# Plotting the Bar chart for NULL Valyues\n",
        "index = np.arange(len(columns))\n",
        "plt.bar(index, data[columns].isnull().sum())\n",
        "plt.xlabel('Features With NULL Values', fontsize=15)\n",
        "plt.ylabel('Count Of NULL Values', fontsize=15)\n",
        "plt.xticks(index, columns, fontsize=9, rotation=30)\n",
        "plt.title('NULL VALUE ANALYSIS IN DATA')\n",
        "plt.show()"
      ],
      "execution_count": 0,
      "outputs": [
        {
          "output_type": "stream",
          "text": [
            "Dataset contain the NaN or Null Values =\t True\n",
            "Count of NaN or Null values in Dataset =\t 3346224\n",
            "Column containing NaN/Null values \t Index(['Email', 'Mobile', 'Age', 'Gender', 'Insurance', 'CouponCode',\n",
            "       'CancellationDate', 'CancellationTime', 'ReferenceNo'],\n",
            "      dtype='object')\n",
            "\n",
            " \n",
            " Count of NULL present in dataset w.r.t column \n",
            " Email                406561\n",
            "Mobile                   28\n",
            "Age                    2405\n",
            "Gender                   78\n",
            "Insurance              2405\n",
            "CouponCode           475936\n",
            "CancellationDate    1010317\n",
            "CancellationTime    1010317\n",
            "ReferenceNo          438177\n",
            "dtype: int64\n"
          ],
          "name": "stdout"
        },
        {
          "output_type": "display_data",
          "data": {
            "image/png": "[encoded data removed]",
            "text/plain": [
              "<Figure size 432x288 with 1 Axes>"
            ]
          },
          "metadata": {
            "tags": []
          }
        }
      ]
    },
    {
      "cell_type": "code",
      "metadata": {
        "id": "JWSg6rubHcFC",
        "colab_type": "code",
        "outputId": "3ed5e396-c2b7-49b6-f528-cf37324b4eee",
        "colab": {
          "base_uri": "https://localhost:8080/",
          "height": 54
        }
      },
      "source": [
        "# Checking the categorical data prescence in dataset\n",
        "num_cols = data._get_numeric_data().columns\n",
        "categor_list = list(set(columns) - set(num_cols))\n",
        "for w in categor_list: \n",
        "    if len(data[w].unique()) < 3:\n",
        "        categor_list.remove(w)\n",
        "\n",
        "print(\"Categorical Featue in Dataset :\",categor_list)\n"
      ],
      "execution_count": 0,
      "outputs": [
        {
          "output_type": "stream",
          "text": [
            "Categorical Featue in Dataset : ['Insurance', 'Mobile', 'CancellationDate', 'Email', 'Gender', 'ReferenceNo', 'CouponCode', 'CancellationTime']\n"
          ],
          "name": "stdout"
        }
      ]
    },
    {
      "cell_type": "code",
      "metadata": {
        "id": "MOG2dCOrb8v4",
        "colab_type": "code",
        "outputId": "ce35ec3c-7ad7-4ae0-b2a4-88d62ec4b31a",
        "colab": {
          "base_uri": "https://localhost:8080/",
          "height": 782
        }
      },
      "source": [
        "# Information about the dataset ---- Summary\n",
        "data.info()"
      ],
      "execution_count": 0,
      "outputs": [
        {
          "output_type": "stream",
          "text": [
            "<class 'pandas.core.frame.DataFrame'>\n",
            "RangeIndex: 1012722 entries, 0 to 1012721\n",
            "Data columns (total 40 columns):\n",
            "PNR                     1012722 non-null object\n",
            "Source                  1012722 non-null object\n",
            "Destination             1012722 non-null object\n",
            "DOJ                     1012722 non-null object\n",
            "OperatorName            1012722 non-null object\n",
            "BusType                 1012722 non-null object\n",
            "ServiceType             1012722 non-null object\n",
            "BoardingPoint           1012722 non-null object\n",
            "BoardingTime            1012722 non-null object\n",
            "DroppoingPoint          1012722 non-null object\n",
            "DroppingTime            1012722 non-null object\n",
            "Email                   606161 non-null object\n",
            "Mobile                  1012694 non-null object\n",
            "Age                     1010317 non-null object\n",
            "Gender                  1012644 non-null object\n",
            "Insurance               1010317 non-null object\n",
            "insurance_amount        1012722 non-null int64\n",
            "CouponCode              536786 non-null object\n",
            "Discount_Amt            1012722 non-null float64\n",
            "WalletAmountRedemeed    1012722 non-null float64\n",
            "PGAmount                1012722 non-null float64\n",
            "PGType                  1012722 non-null object\n",
            "GSTAmount               1012722 non-null float64\n",
            "ServiceCharge           1012722 non-null float64\n",
            "TicketAmount            1012722 non-null float64\n",
            "No_Of_Seats             1012722 non-null int64\n",
            "BookingPlatform         1012722 non-null object\n",
            "BookedDate              1012722 non-null object\n",
            "BookingTime             1012722 non-null object\n",
            "CancellationDate        2405 non-null object\n",
            "CancellationTime        2405 non-null object\n",
            "CancelledSeats          1012722 non-null int64\n",
            "CancellationAmount      1012722 non-null float64\n",
            "RefundGSTAmount         1012722 non-null float64\n",
            "CustomerId              1012722 non-null object\n",
            "EdgeOfferAmount         1012722 non-null float64\n",
            "APISource               1012722 non-null object\n",
            "Abhiid                  1012722 non-null int64\n",
            "Earnings                1012722 non-null int64\n",
            "ReferenceNo             574545 non-null object\n",
            "dtypes: float64(9), int64(5), object(26)\n",
            "memory usage: 309.1+ MB\n"
          ],
          "name": "stdout"
        }
      ]
    },
    {
      "cell_type": "markdown",
      "metadata": {
        "id": "le3Jdl0eUKvX",
        "colab_type": "text"
      },
      "source": [
        "# Data Preprocessing and Feature Engineering\n"
      ]
    },
    {
      "cell_type": "markdown",
      "metadata": {
        "id": "B31f2EVFabyS",
        "colab_type": "text"
      },
      "source": [
        "***Deleting the un-necessary/ineffective columns of dataset***\n"
      ]
    },
    {
      "cell_type": "code",
      "metadata": {
        "id": "7tRp8G2YUPNA",
        "colab_type": "code",
        "outputId": "49b99458-106c-4a8d-b5ca-ad1644b06be0",
        "colab": {
          "base_uri": "https://localhost:8080/",
          "height": 68
        }
      },
      "source": [
        "# Deleting the unnecessary features from Dataset\n",
        "\n",
        "# Features in Dataset\n",
        "print(\"Number of Feature/Column in the Dataset before deletion :\", len(data.columns))\n",
        "\n",
        "# This list is obtained from Technical Document sheet: FE- Ticketing Data\n",
        "delete_list = ['PNR','BoardingPoint','DroppoingPoint','Email','insurance_amount','Discount_Amt','WalletAmountRedemeed','PGAmount',\n",
        "              'PGType','GSTAmount','ServiceCharge','BookingTime','CancellationTime','CancelledSeats','CancellationAmount',\n",
        "              'RefundGSTAmount','CustomerId','EdgeOfferAmount','Abhiid','Earnings','ReferenceNo']\n",
        "\n",
        "print(\"Count of feature to be deleted from dataset\", len(delete_list))\n",
        "\n",
        "# Dropping ineffective columns from dataset\n",
        "features = data.drop(columns = delete_list)\n",
        "\n",
        "# Features in Dataset\n",
        "print(\"Number of Feature/Column in the Dataset after deletion :\", len(features.columns))\n",
        "\n"
      ],
      "execution_count": 0,
      "outputs": [
        {
          "output_type": "stream",
          "text": [
            "Number of Feature/Column in the Dataset before deletion : 40\n",
            "Count of feature to be deleted from dataset 21\n",
            "Number of Feature/Column in the Dataset after deletion : 19\n"
          ],
          "name": "stdout"
        }
      ]
    },
    {
      "cell_type": "markdown",
      "metadata": {
        "id": "YvmJ6CyXkKPu",
        "colab_type": "text"
      },
      "source": [
        "***Re-validation of Feature dataframe and pre-processing the same***"
      ]
    },
    {
      "cell_type": "code",
      "metadata": {
        "id": "dHyUsdUKin4Y",
        "colab_type": "code",
        "outputId": "1d50b639-0805-4386-9230-ed42a2162932",
        "colab": {
          "base_uri": "https://localhost:8080/",
          "height": 592
        }
      },
      "source": [
        "# Checking wheter Feature contain the NULL or NaN values in dataset or not\n",
        "print(\"Dataset contain the NaN or Null Values =\\t\",features.isnull().values.any())\n",
        "\n",
        "# Checking the NaN or Null present in the Feature irrespective of Features\n",
        "print(\"Count of NaN or Null values in Dataset =\\t\", features.isnull().sum().sum())\n",
        "\n",
        "# Checking the Nan or Null Values w.r.t column\n",
        "columns=features.columns[features.isnull().any()]\n",
        "print(\"Column containing NaN/Null values \\t\",columns)\n",
        "\n",
        "print(\"\\n \\n Count of NULL present in Feature w.r.t column \\n\",features[columns].isnull().sum())\n",
        "# Plotting the Bar chart for NULL Valyues\n",
        "index = np.arange(len(columns))\n",
        "plt.bar(index, features[columns].isnull().sum())\n",
        "plt.xlabel('Features With NULL Values', fontsize=15)\n",
        "plt.ylabel('Count Of NULL Values', fontsize=15)\n",
        "plt.xticks(index, columns, fontsize=9, rotation=30)\n",
        "plt.title('NULL VALUE ANALYSIS IN DATA')\n",
        "plt.show()"
      ],
      "execution_count": 0,
      "outputs": [
        {
          "output_type": "stream",
          "text": [
            "Dataset contain the NaN or Null Values =\t True\n",
            "Count of NaN or Null values in Dataset =\t 1491169\n",
            "Column containing NaN/Null values \t Index(['Mobile', 'Age', 'Gender', 'Insurance', 'CouponCode',\n",
            "       'CancellationDate'],\n",
            "      dtype='object')\n",
            "\n",
            " \n",
            " Count of NULL present in Feature w.r.t column \n",
            " Mobile                   28\n",
            "Age                    2405\n",
            "Gender                   78\n",
            "Insurance              2405\n",
            "CouponCode           475936\n",
            "CancellationDate    1010317\n",
            "dtype: int64\n"
          ],
          "name": "stdout"
        },
        {
          "output_type": "display_data",
          "data": {
            "image/png": "[encoded data removed]",
            "text/plain": [
              "<Figure size 432x288 with 1 Axes>"
            ]
          },
          "metadata": {
            "tags": []
          }
        }
      ]
    },
    {
      "cell_type": "code",
      "metadata": {
        "id": "bmQIQAdGktpc",
        "colab_type": "code",
        "outputId": "4108b347-a547-461b-ce6e-b14574959b87",
        "colab": {
          "base_uri": "https://localhost:8080/",
          "height": 85
        }
      },
      "source": [
        "# Checking the categorical data prescence in dataset\n",
        "num_cols = features._get_numeric_data().columns\n",
        "categor_list = list(set(columns) - set(num_cols))\n",
        "for w in categor_list: \n",
        "    if len(features[w].unique()) < 3:\n",
        "        categor_list.remove(w)\n",
        "\n",
        "print(\" \\n Categorical Features in dataframe-features :\",categor_list)\n",
        "print(\"\\n Count of column consist of categorical Data : \", len(categor_list))"
      ],
      "execution_count": 0,
      "outputs": [
        {
          "output_type": "stream",
          "text": [
            " \n",
            " Categorical Features in dataframe-features : ['Insurance', 'Mobile', 'CancellationDate', 'Gender', 'CouponCode']\n",
            "\n",
            " Count of column consist of categorical Data :  5\n"
          ],
          "name": "stdout"
        }
      ]
    },
    {
      "cell_type": "code",
      "metadata": {
        "id": "BU3ClTXK8x78",
        "colab_type": "code",
        "outputId": "ae45db84-bc93-4b82-9a4c-15684d9ee984",
        "colab": {
          "base_uri": "https://localhost:8080/",
          "height": 470
        }
      },
      "source": [
        "# Getting Unique values present in the specfied columns of dataframe-features\n",
        "\n",
        "features_list = features.columns\n",
        "print(\"Columns in the dataset\", features_list)\n",
        "\n",
        "count_list = []\n",
        "for feature in features_list:\n",
        "    count_list.append(len(features[feature].unique()))\n",
        "    \n",
        "print(count_list)\n",
        "\n",
        "# Plotting the Bar chart for NULL Valyues\n",
        "index = np.arange(len(features_list))\n",
        "plt.bar(index, count_list)\n",
        "plt.xlabel('Features With Unique Values', fontsize=15)\n",
        "plt.ylabel('Count Of Unique Values', fontsize=15)\n",
        "plt.xticks(index, features_list, fontsize=9, rotation=90)\n",
        "plt.title('Unique VALUE ANALYSIS IN DATA')\n",
        "plt.show()"
      ],
      "execution_count": 0,
      "outputs": [
        {
          "output_type": "stream",
          "text": [
            "Columns in the dataset Index(['Source', 'Destination', 'DOJ', 'OperatorName', 'BusType',\n",
            "       'ServiceType', 'BoardingTime', 'DroppingTime', 'Mobile', 'Age',\n",
            "       'Gender', 'Insurance', 'CouponCode', 'TicketAmount', 'No_Of_Seats',\n",
            "       'BookingPlatform', 'BookedDate', 'CancellationDate', 'APISource'],\n",
            "      dtype='object')\n",
            "[510, 596, 164, 92, 119, 2, 417, 206, 655932, 2, 657, 9116, 6080, 1604, 48, 4, 131, 42, 92]\n"
          ],
          "name": "stdout"
        },
        {
          "output_type": "display_data",
          "data": {
            "image/png": "[encoded data removed]",
            "text/plain": [
              "<Figure size 432x288 with 1 Axes>"
            ]
          },
          "metadata": {
            "tags": []
          }
        }
      ]
    },
    {
      "cell_type": "markdown",
      "metadata": {
        "id": "_DCEvr3rCrdz",
        "colab_type": "text"
      },
      "source": [
        "# Selecting the DOJ feature and Performing EDA"
      ]
    },
    {
      "cell_type": "code",
      "metadata": {
        "id": "c9T5GFUOWlKs",
        "colab_type": "code",
        "outputId": "d4789a2a-fe75-4618-956d-6d0e16a501a2",
        "colab": {
          "base_uri": "https://localhost:8080/",
          "height": 102
        }
      },
      "source": [
        "print(features[\"DOJ\"].describe())"
      ],
      "execution_count": 0,
      "outputs": [
        {
          "output_type": "stream",
          "text": [
            "count        1012722\n",
            "unique           164\n",
            "top       2015-05-10\n",
            "freq           15343\n",
            "Name: DOJ, dtype: object\n"
          ],
          "name": "stdout"
        }
      ]
    },
    {
      "cell_type": "code",
      "metadata": {
        "id": "_xY_4MakWlVS",
        "colab_type": "code",
        "outputId": "368f771e-6760-4ee5-f575-fecbc5150e4c",
        "colab": {
          "base_uri": "https://localhost:8080/",
          "height": 102
        }
      },
      "source": [
        "print(features[\"BoardingTime\"].describe())"
      ],
      "execution_count": 0,
      "outputs": [
        {
          "output_type": "stream",
          "text": [
            "count      1012722\n",
            "unique         417\n",
            "top       10:00 PM\n",
            "freq         72862\n",
            "Name: BoardingTime, dtype: object\n"
          ],
          "name": "stdout"
        }
      ]
    },
    {
      "cell_type": "code",
      "metadata": {
        "id": "tzkX5IGCN2rF",
        "colab_type": "code",
        "outputId": "699beb18-78c5-4d18-8768-0184bb4bc439",
        "colab": {
          "base_uri": "https://localhost:8080/",
          "height": 34
        }
      },
      "source": [
        "# Checking the type of data present in the features[\"DOJ\"]\n",
        "print(\"Datatype present in the DOJ\", features.DOJ.dtype)\n"
      ],
      "execution_count": 0,
      "outputs": [
        {
          "output_type": "stream",
          "text": [
            "Datatype present in the DOJ object\n"
          ],
          "name": "stdout"
        }
      ]
    },
    {
      "cell_type": "code",
      "metadata": {
        "id": "PJsKWDJJC34F",
        "colab_type": "code",
        "outputId": "38dbadc5-8350-4aac-f4f3-51d8c656822a",
        "colab": {
          "base_uri": "https://localhost:8080/",
          "height": 34
        }
      },
      "source": [
        "# Dynamically Evaluating for which year transactions are there\n",
        "\n",
        "years = []\n",
        "for year in features.DOJ:\n",
        "    year = year[:4]\n",
        "    if year in years:\n",
        "        None\n",
        "    else:\n",
        "        years.append(year)\n",
        "print(\"Transaction present in the dataset from these years:\",years)\n",
        "\n",
        "\n"
      ],
      "execution_count": 0,
      "outputs": [
        {
          "output_type": "stream",
          "text": [
            "Transaction present in the dataset from these years: ['2014', '2015']\n"
          ],
          "name": "stdout"
        }
      ]
    },
    {
      "cell_type": "code",
      "metadata": {
        "id": "YeXkXzkFWk6K",
        "colab_type": "code",
        "outputId": "77a8509d-d369-4f83-b013-f84660ad6aff",
        "colab": {
          "base_uri": "https://localhost:8080/",
          "height": 68
        }
      },
      "source": [
        "# Finding Number of Transaction present in the each year\n",
        "trans14cnt = 0\n",
        "trans15cnt = 0\n",
        "for years in features.DOJ:\n",
        "    if years.startswith(\"2014\"):\n",
        "        trans14cnt += 1 \n",
        "    if years.startswith(\"2015\"):\n",
        "        trans15cnt += 1 \n",
        "        \n",
        "print(\"Transacion in 2014 are:\", trans14cnt)\n",
        "print(\"Transacion in 2015 are:\", trans15cnt)\n",
        "\n",
        "transaction = [trans14cnt , trans15cnt]\n",
        "print(transaction)"
      ],
      "execution_count": 0,
      "outputs": [
        {
          "output_type": "stream",
          "text": [
            "Transacion in 2014 are: 3\n",
            "Transacion in 2015 are: 1012719\n",
            "[3, 1012719]\n"
          ],
          "name": "stdout"
        }
      ]
    },
    {
      "cell_type": "code",
      "metadata": {
        "id": "jCiL4655ss09",
        "colab_type": "code",
        "outputId": "b235cbb8-f524-49a4-a408-e322d1004b22",
        "colab": {
          "base_uri": "https://localhost:8080/",
          "height": 323
        }
      },
      "source": [
        "# Checking the trends of Transaction w.r.t Date and segmenting DOJ w.r.t Day of travel\n",
        "\n",
        "def weekDay(year, month, day):\n",
        "    offset = [0, 31, 59, 90, 120, 151, 181, 212, 243, 273, 304, 334]\n",
        "    week   = ['Sunday', \n",
        "              'Monday', \n",
        "              'Tuesday', \n",
        "              'Wednesday', \n",
        "              'Thursday',  \n",
        "              'Friday', \n",
        "              'Saturday']\n",
        "    afterFeb = 1\n",
        "    if month > 2: afterFeb = 0\n",
        "    aux = year - 1700 - afterFeb\n",
        "    # dayOfWeek for 1700/1/1 = 5, Friday\n",
        "    dayOfWeek  = 5\n",
        "    # partial sum of days betweem current date and 1700/1/1\n",
        "    dayOfWeek += (aux + afterFeb) * 365                  \n",
        "    # leap year correction    \n",
        "    dayOfWeek += aux / 4 - aux / 100 + (aux + 100) / 400     \n",
        "    # sum monthly and day offsets\n",
        "    dayOfWeek += offset[month - 1] + (day - 1)               \n",
        "    dayOfWeek %= 7\n",
        "    return int(dayOfWeek)\n",
        "\n",
        "Sunday = 0; Monday = 0; Tuesday = 0; Wednesday = 0; Thursday = 0; Friday = 0;Saturday = 0;  #noqa\n",
        "weekendSegmentation = []\n",
        "daySegmentation = []\n",
        "for days in features.DOJ:\n",
        "    day, month, year = (int(x) for x in days.split('-'))  \n",
        "    val = weekDay(year, month, day)\n",
        "    daySegmentation.append(val)\n",
        "    if val == 0:\n",
        "        Sunday += 1\n",
        "        weekendSegmentation.append(\"W\")\n",
        "    elif val == 1:\n",
        "        Monday += 1\n",
        "        weekendSegmentation.append(\"M\")\n",
        "    elif val == 2:\n",
        "        Tuesday += 1\n",
        "        weekendSegmentation.append(\"M\")\n",
        "    elif val == 3:\n",
        "        Wednesday += 1\n",
        "        weekendSegmentation.append(\"M\")\n",
        "    elif val == 4:\n",
        "        Thursday += 1  \n",
        "        weekendSegmentation.append(\"M\")\n",
        "    elif val == 5:\n",
        "        Friday += 1\n",
        "        weekendSegmentation.append(\"W\")\n",
        "    elif val == 6:\n",
        "        Saturday += 1\n",
        "        \n",
        "Weekdays = [\"Sunday\",\"Monday\",\"Tuesday\",\"Wednesday\",\"Thursday\",\"Friday\",\"Saturday\"]\n",
        "Transaction = [Sunday,Monday,Tuesday,Wednesday,Thursday,Friday,Saturday]\n",
        "\n",
        "print(\"Weekdays\",Weekdays)\n",
        "print(\"Transaction\", Transaction)\n",
        "\n",
        "colors = ['Red', 'Green','Blue','Pink','Grey','yellow','orange']\n",
        "plt.pie(Transaction, labels=Weekdays, colors=colors, startangle=90, autopct='%.1f%%')\n",
        "plt.show()\n",
        "\n",
        "print(\"Weekend Segmentation\", len(weekendSegmentation))\n",
        "print(\"Day Segmentation : \", len(daySegmentation))\n"
      ],
      "execution_count": 0,
      "outputs": [
        {
          "output_type": "stream",
          "text": [
            "Weekdays ['Sunday', 'Monday', 'Tuesday', 'Wednesday', 'Thursday', 'Friday', 'Saturday']\n",
            "Transaction [141927, 145652, 145845, 143809, 146516, 140211, 148762]\n"
          ],
          "name": "stdout"
        },
        {
          "output_type": "display_data",
          "data": {
            "image/png": "[encoded data removed]",
            "text/plain": [
              "<Figure size 432x288 with 1 Axes>"
            ]
          },
          "metadata": {
            "tags": []
          }
        },
        {
          "output_type": "stream",
          "text": [
            "Weekend Segmentation 863960\n",
            "Day Segmentation :  1012722\n"
          ],
          "name": "stdout"
        }
      ]
    },
    {
      "cell_type": "code",
      "metadata": {
        "id": "2s1VZsHvsuzN",
        "colab_type": "code",
        "outputId": "d42740ff-2449-4a3c-a918-9a623cbc9ba5",
        "colab": {
          "base_uri": "https://localhost:8080/",
          "height": 578
        }
      },
      "source": [
        "January = 0; February = 0; March = 0; April = 0; May = 0; June = 0;July = 0; August = 0; September =0;\n",
        "October = 0; November = 0; December = 0 #noqa\n",
        "\n",
        "monthSegmentation = []\n",
        "\n",
        "for days in features.DOJ:\n",
        "    day, month, year = (int(x) for x in days.split('-'))  \n",
        "    \n",
        "    if month == 1:\n",
        "        January += 1\n",
        "        monthSegmentation.append(month)\n",
        "    elif month == 2:\n",
        "        February += 1\n",
        "        monthSegmentation.append(month)\n",
        "    elif month == 3:\n",
        "        March += 1\n",
        "        monthSegmentation.append(month)\n",
        "    elif month == 4:\n",
        "        April += 1\n",
        "        monthSegmentation.append(month)\n",
        "    elif month == 5:\n",
        "        May += 1  \n",
        "        monthSegmentation.append(month)\n",
        "    elif month == 6:\n",
        "        June += 1\n",
        "        monthSegmentation.append(month)\n",
        "    elif month == 7:\n",
        "        July += 1\n",
        "        monthSegmentation.append(month)\n",
        "    elif month == 8:\n",
        "        August += 1\n",
        "        monthSegmentation.append(month)\n",
        "    elif month == 9:\n",
        "        September += 1 \n",
        "        monthSegmentation.append(month)\n",
        "    elif month == 10:\n",
        "        October += 1\n",
        "        monthSegmentation.append(month)\n",
        "    elif month == 11:\n",
        "        November += 1\n",
        "        monthSegmentation.append(month)\n",
        "    elif month == 12:\n",
        "        December += 1 \n",
        "        monthSegmentation.append(month)\n",
        "    \n",
        "Month1 = [\"January\",\"February\",\"March\",\"April\",\"May\",\"June\"]\n",
        "Transaction1 = [January,February,March,April,May,June]\n",
        "\n",
        "Month2 = [\"July\",\"August\",\"September\",\"October\",\"November\",\"December\"]\n",
        "Transaction2 = [July,August,September,October,November,December]\n",
        "\n",
        "\n",
        "print(\"Transaction1\",Transaction1)\n",
        "print(\"Transacttion2\",Transaction2)\n",
        "\n",
        "\n",
        "colors = ['Red', 'Green','Blue','Pink','Grey','Yellow']\n",
        "\n",
        "plt.pie(Transaction1, labels=Month1, colors=colors, startangle=90, autopct='%.1f%%')\n",
        "plt.show()\n",
        "\n",
        "print(\"\\n \\n\")\n",
        "plt.pie(Transaction2, labels=Month2, colors=colors, startangle=90, autopct='%.1f%%')\n",
        "plt.show()\n"
      ],
      "execution_count": 0,
      "outputs": [
        {
          "output_type": "stream",
          "text": [
            "Transaction1 [8, 7, 189, 291341, 386562, 317801]\n",
            "Transacttion2 [16811, 0, 0, 3, 0, 0]\n"
          ],
          "name": "stdout"
        },
        {
          "output_type": "display_data",
          "data": {
            "image/png": "[encoded data removed]",
            "text/plain": [
              "<Figure size 432x288 with 1 Axes>"
            ]
          },
          "metadata": {
            "tags": []
          }
        },
        {
          "output_type": "stream",
          "text": [
            "\n",
            " \n",
            "\n"
          ],
          "name": "stdout"
        },
        {
          "output_type": "display_data",
          "data": {
            "image/png": "[encoded data removed]",
            "text/plain": [
              "<Figure size 432x288 with 1 Axes>"
            ]
          },
          "metadata": {
            "tags": []
          }
        }
      ]
    },
    {
      "cell_type": "code",
      "metadata": {
        "id": "LZvlLqTjsu5V",
        "colab_type": "code",
        "colab": {}
      },
      "source": [
        ""
      ],
      "execution_count": 0,
      "outputs": []
    },
    {
      "cell_type": "markdown",
      "metadata": {
        "id": "SNLxNUqi5x-J",
        "colab_type": "text"
      },
      "source": [
        "# Selecting the OperatorName & Performing EDA"
      ]
    },
    {
      "cell_type": "code",
      "metadata": {
        "id": "lHBqoJlhsu-O",
        "colab_type": "code",
        "outputId": "9b77de58-2027-4047-c42b-58bd91ab5c49",
        "colab": {
          "base_uri": "https://localhost:8080/",
          "height": 102
        }
      },
      "source": [
        "# Selecting the OperatorName Column\n",
        "print(features[\"OperatorName\"].describe())"
      ],
      "execution_count": 0,
      "outputs": [
        {
          "output_type": "stream",
          "text": [
            "count            1012722\n",
            "unique                92\n",
            "top       Kaveri Travels\n",
            "freq              176493\n",
            "Name: OperatorName, dtype: object\n"
          ],
          "name": "stdout"
        }
      ]
    },
    {
      "cell_type": "code",
      "metadata": {
        "id": "PTt2no1xsvCG",
        "colab_type": "code",
        "outputId": "9e3d756b-ce0e-46fe-ae84-5ae2c325d471",
        "colab": {
          "base_uri": "https://localhost:8080/",
          "height": 153
        }
      },
      "source": [
        "print(features.head(5))"
      ],
      "execution_count": 0,
      "outputs": [
        {
          "output_type": "stream",
          "text": [
            "      Source  Destination  ... CancellationDate        APISource\n",
            "0  Tadipatri    Hyderabad  ...              NaN  Diwakar Travels\n",
            "1  Hyderabad    Tadipatri  ...              NaN  Diwakar Travels\n",
            "2  Hyderabad    Tadipatri  ...              NaN  Diwakar Travels\n",
            "3  Hyderabad  Ravulapalem  ...       2015-06-23   Kaveri Travels\n",
            "4  Hyderabad  Ganapavaram  ...       2015-06-23   Kaveri Travels\n",
            "\n",
            "[5 rows x 19 columns]\n"
          ],
          "name": "stdout"
        }
      ]
    },
    {
      "cell_type": "code",
      "metadata": {
        "id": "RIk5N1cd_kl2",
        "colab_type": "code",
        "outputId": "32378af0-c6d1-4473-ebd8-57852ba81573",
        "colab": {
          "base_uri": "https://localhost:8080/",
          "height": 34
        }
      },
      "source": [
        "BusOperators = features.OperatorName.unique()\n",
        "print(len(BusOperators))"
      ],
      "execution_count": 0,
      "outputs": [
        {
          "output_type": "stream",
          "text": [
            "92\n"
          ],
          "name": "stdout"
        }
      ]
    },
    {
      "cell_type": "code",
      "metadata": {
        "id": "eSwBzR8YANn0",
        "colab_type": "code",
        "outputId": "25c20d9f-ba69-47ef-b4e4-96be99cbdb82",
        "colab": {
          "base_uri": "https://localhost:8080/",
          "height": 238
        }
      },
      "source": [
        "# Making the Columns OperatoreName into Ordinal Value\n",
        "\n",
        "print(\"Number of Column present in the dataset beffore considering BusOperator column to be ordinal\",len(features.columns))\n",
        "print(\"Columns of dataset =\",features.columns)\n",
        "OrdBusOperator = {}\n",
        "\n",
        "for i in range(0, len(BusOperators)):\n",
        "    OrdBusOperator[BusOperators[i]] = i\n",
        "#print(\"Ordinal Bus Operator :\",OrdBusOperator)\n",
        "\n",
        "#print(type(OrdBusOperator))\n",
        "\n",
        "# Map feature values to scale\n",
        "features['OrdBusOperator'] = features['OperatorName'].replace(OrdBusOperator)\n",
        "\n",
        "print(\"Number of Column present in the dataset beffore considering BusOperator column to be ordinal\",len(features.columns))\n",
        "print(\"Columns of dataset =\",features.columns)\n"
      ],
      "execution_count": 0,
      "outputs": [
        {
          "output_type": "stream",
          "text": [
            "Number of Column present in the dataset beffore considering BusOperator column to be ordinal 19\n",
            "Columns of dataset = Index(['Source', 'Destination', 'DOJ', 'OperatorName', 'BusType',\n",
            "       'ServiceType', 'BoardingTime', 'DroppingTime', 'Mobile', 'Age',\n",
            "       'Gender', 'Insurance', 'CouponCode', 'TicketAmount', 'No_Of_Seats',\n",
            "       'BookingPlatform', 'BookedDate', 'CancellationDate', 'APISource'],\n",
            "      dtype='object')\n",
            "Number of Column present in the dataset beffore considering BusOperator column to be ordinal 20\n",
            "Columns of dataset = Index(['Source', 'Destination', 'DOJ', 'OperatorName', 'BusType',\n",
            "       'ServiceType', 'BoardingTime', 'DroppingTime', 'Mobile', 'Age',\n",
            "       'Gender', 'Insurance', 'CouponCode', 'TicketAmount', 'No_Of_Seats',\n",
            "       'BookingPlatform', 'BookedDate', 'CancellationDate', 'APISource',\n",
            "       'OrdBusOperator'],\n",
            "      dtype='object')\n"
          ],
          "name": "stdout"
        }
      ]
    },
    {
      "cell_type": "markdown",
      "metadata": {
        "id": "YXEmScsAuQmy",
        "colab_type": "text"
      },
      "source": [
        "# Selecting the BusType and Performing EDA"
      ]
    },
    {
      "cell_type": "code",
      "metadata": {
        "id": "CFmWmI6uuXhw",
        "colab_type": "code",
        "outputId": "b9928feb-4ad5-4859-935f-4673a9c83d93",
        "colab": {
          "base_uri": "https://localhost:8080/",
          "height": 34
        }
      },
      "source": [
        "# Checking the categories in the column BusType\n",
        "\n",
        "typelist = features.BusType.unique()\n",
        "print(len(typelist))\n",
        "\n",
        "values = features.groupby([\"BusType\"]).count()\n",
        "\n",
        "\n"
      ],
      "execution_count": 0,
      "outputs": [
        {
          "output_type": "stream",
          "text": [
            "119\n"
          ],
          "name": "stdout"
        }
      ]
    },
    {
      "cell_type": "code",
      "metadata": {
        "id": "ERXQRQT1lKrV",
        "colab_type": "code",
        "colab": {}
      },
      "source": [
        "\"\"\"\n",
        "for BusOperator, BusType in zip(features.OperatorName, features.BusType):\n",
        "    print('[%s]:\\t\\t \"%s ...\"' % (BusOperator, BusType.split('\\n')[0]))\n",
        "\"\"\"\n",
        "from sklearn.model_selection import train_test_split\n",
        " \n",
        "def train(classifier, X, y):\n",
        "    X_train, X_test, y_train, y_test = train_test_split(X, y, test_size=0.25, random_state=33)\n",
        " \n",
        "    classifier.fit(X_train, y_train)\n",
        "    print(\"Accuracy: %s\" % classifier.score(X_test, y_test))\n",
        "    return classifier\n",
        "\n"
      ],
      "execution_count": 0,
      "outputs": []
    },
    {
      "cell_type": "code",
      "metadata": {
        "id": "-M1_3fab6SzG",
        "colab_type": "code",
        "outputId": "574cbc91-3e18-426e-ac50-5574f6c32a22",
        "colab": {
          "base_uri": "https://localhost:8080/",
          "height": 323
        }
      },
      "source": [
        "from sklearn.naive_bayes import MultinomialNB\n",
        "from sklearn.pipeline import Pipeline\n",
        "from sklearn.feature_extraction.text import TfidfVectorizer\n",
        " \n",
        "trial1 = Pipeline([\n",
        "    ('vectorizer', TfidfVectorizer()),\n",
        "    ('classifier', MultinomialNB()),\n",
        "])\n",
        " \n",
        "train(trial1, features.OperatorName, features.BusType)\n",
        "# Accuracy: 0.846349745331\n",
        " "
      ],
      "execution_count": 0,
      "outputs": [
        {
          "output_type": "stream",
          "text": [
            "Accuracy: 0.5161682748705472\n"
          ],
          "name": "stdout"
        },
        {
          "output_type": "execute_result",
          "data": {
            "text/plain": [
              "Pipeline(memory=None,\n",
              "         steps=[('vectorizer',\n",
              "                 TfidfVectorizer(analyzer='word', binary=False,\n",
              "                                 decode_error='strict',\n",
              "                                 dtype=<class 'numpy.float64'>,\n",
              "                                 encoding='utf-8', input='content',\n",
              "                                 lowercase=True, max_df=1.0, max_features=None,\n",
              "                                 min_df=1, ngram_range=(1, 1), norm='l2',\n",
              "                                 preprocessor=None, smooth_idf=True,\n",
              "                                 stop_words=None, strip_accents=None,\n",
              "                                 sublinear_tf=False,\n",
              "                                 token_pattern='(?u)\\\\b\\\\w\\\\w+\\\\b',\n",
              "                                 tokenizer=None, use_idf=True,\n",
              "                                 vocabulary=None)),\n",
              "                ('classifier',\n",
              "                 MultinomialNB(alpha=1.0, class_prior=None, fit_prior=True))],\n",
              "         verbose=False)"
            ]
          },
          "metadata": {
            "tags": []
          },
          "execution_count": 27
        }
      ]
    },
    {
      "cell_type": "code",
      "metadata": {
        "id": "z9hGsQoz6W-a",
        "colab_type": "code",
        "outputId": "d97ee522-dbf6-44a8-e5ab-c36a7bbe777c",
        "colab": {
          "base_uri": "https://localhost:8080/",
          "height": 54
        }
      },
      "source": [
        "from nltk.corpus import stopwords\n",
        " \n",
        "\"\"\"\n",
        "trial2 = Pipeline([\n",
        "    ('vectorizer', TfidfVectorizer(stop_words=stopwords.words('english'))),\n",
        "    ('classifier', MultinomialNB()),\n",
        "])\n",
        " \n",
        "train(trial2, features.OperatorName, features.BusType)\n",
        "\"\"\""
      ],
      "execution_count": 0,
      "outputs": [
        {
          "output_type": "execute_result",
          "data": {
            "text/plain": [
              "\"\\ntrial2 = Pipeline([\\n    ('vectorizer', TfidfVectorizer(stop_words=stopwords.words('english'))),\\n    ('classifier', MultinomialNB()),\\n])\\n \\ntrain(trial2, features.OperatorName, features.BusType)\\n\""
            ]
          },
          "metadata": {
            "tags": []
          },
          "execution_count": 28
        }
      ]
    },
    {
      "cell_type": "code",
      "metadata": {
        "id": "FZ7dBdbF6YKc",
        "colab_type": "code",
        "outputId": "ecc85ca2-a777-407e-ec2a-57f9858275c6",
        "colab": {
          "base_uri": "https://localhost:8080/",
          "height": 54
        }
      },
      "source": [
        "\"\"\"\n",
        "trial3 = Pipeline([\n",
        "    ('vectorizer', TfidfVectorizer(stop_words=stopwords.words('english'))),\n",
        "    ('classifier', MultinomialNB(alpha=0.05)),\n",
        "])\n",
        " \n",
        "train(trial3, features.OperatorName, features.BusType)\n",
        "\"\"\""
      ],
      "execution_count": 0,
      "outputs": [
        {
          "output_type": "execute_result",
          "data": {
            "text/plain": [
              "\"\\ntrial3 = Pipeline([\\n    ('vectorizer', TfidfVectorizer(stop_words=stopwords.words('english'))),\\n    ('classifier', MultinomialNB(alpha=0.05)),\\n])\\n \\ntrain(trial3, features.OperatorName, features.BusType)\\n\""
            ]
          },
          "metadata": {
            "tags": []
          },
          "execution_count": 29
        }
      ]
    },
    {
      "cell_type": "code",
      "metadata": {
        "id": "t-EptuMD6azE",
        "colab_type": "code",
        "outputId": "49d30e51-fd50-43c7-91e6-80dda8a8c475",
        "colab": {
          "base_uri": "https://localhost:8080/",
          "height": 54
        }
      },
      "source": [
        "\"\"\"\n",
        "trial4 = Pipeline([\n",
        "    ('vectorizer', TfidfVectorizer(stop_words=stopwords.words('english'),\n",
        "                             min_df=5)),\n",
        "    ('classifier', MultinomialNB(alpha=0.05)),\n",
        "])\n",
        " \n",
        "train(trial4, features.OperatorName, features.BusType)\n",
        "# Accuracy: 0.903013582343\n",
        "\"\"\""
      ],
      "execution_count": 0,
      "outputs": [
        {
          "output_type": "execute_result",
          "data": {
            "text/plain": [
              "\"\\ntrial4 = Pipeline([\\n    ('vectorizer', TfidfVectorizer(stop_words=stopwords.words('english'),\\n                             min_df=5)),\\n    ('classifier', MultinomialNB(alpha=0.05)),\\n])\\n \\ntrain(trial4, features.OperatorName, features.BusType)\\n# Accuracy: 0.903013582343\\n\""
            ]
          },
          "metadata": {
            "tags": []
          },
          "execution_count": 30
        }
      ]
    },
    {
      "cell_type": "code",
      "metadata": {
        "id": "BeB8K7Et6fkn",
        "colab_type": "code",
        "outputId": "1bf83968-a330-4afd-8943-45db177120bf",
        "colab": {
          "base_uri": "https://localhost:8080/",
          "height": 54
        }
      },
      "source": [
        "\"\"\"\n",
        "import string\n",
        "from nltk.stem import PorterStemmer\n",
        "from nltk import word_tokenize\n",
        " \n",
        "def stemming_tokenizer(text):\n",
        "    stemmer = PorterStemmer()\n",
        "    return [stemmer.stem(w) for w in word_tokenize(text)]\n",
        " \n",
        "trial5 = Pipeline([\n",
        "    ('vectorizer', TfidfVectorizer(tokenizer=stemming_tokenizer,\n",
        "                             stop_words=stopwords.words('english') + list(string.punctuation))),\n",
        "    ('classifier', MultinomialNB(alpha=0.05)),\n",
        "    ])\n",
        " \n",
        "train(trial5, train(trial4, features.OperatorName, features.BusType))\n",
        "\"\"\""
      ],
      "execution_count": 0,
      "outputs": [
        {
          "output_type": "execute_result",
          "data": {
            "text/plain": [
              "\"\\nimport string\\nfrom nltk.stem import PorterStemmer\\nfrom nltk import word_tokenize\\n \\ndef stemming_tokenizer(text):\\n    stemmer = PorterStemmer()\\n    return [stemmer.stem(w) for w in word_tokenize(text)]\\n \\ntrial5 = Pipeline([\\n    ('vectorizer', TfidfVectorizer(tokenizer=stemming_tokenizer,\\n                             stop_words=stopwords.words('english') + list(string.punctuation))),\\n    ('classifier', MultinomialNB(alpha=0.05)),\\n    ])\\n \\ntrain(trial5, train(trial4, features.OperatorName, features.BusType))\\n\""
            ]
          },
          "metadata": {
            "tags": []
          },
          "execution_count": 31
        }
      ]
    },
    {
      "cell_type": "markdown",
      "metadata": {
        "id": "MLVzvl41XV5M",
        "colab_type": "text"
      },
      "source": [
        "# Selecting the Boarding Time and Performing EDA\n"
      ]
    },
    {
      "cell_type": "markdown",
      "metadata": {
        "id": "bcHqFBZ1Xgij",
        "colab_type": "text"
      },
      "source": [
        "Objective:Based on time - categorize as Morning, Noon, Evening, Night"
      ]
    },
    {
      "cell_type": "code",
      "metadata": {
        "id": "6wmUISMZXpPa",
        "colab_type": "code",
        "outputId": "01a0cd61-86ef-4481-a754-e37fcea509c9",
        "colab": {
          "base_uri": "https://localhost:8080/",
          "height": 1000
        }
      },
      "source": [
        "features.BoardingTime\n"
      ],
      "execution_count": 0,
      "outputs": [
        {
          "output_type": "execute_result",
          "data": {
            "text/plain": [
              "0          09:30 PM\n",
              "1          11:00 PM\n",
              "2          11:00 PM\n",
              "3          09:50 PM\n",
              "4          11:25 PM\n",
              "5          09:20 PM\n",
              "6          10:30 PM\n",
              "7          10:40 PM\n",
              "8          09:20 PM\n",
              "9          06:00 PM\n",
              "10         09:30 PM\n",
              "11         10:15 PM\n",
              "12               \\N\n",
              "13         10:07 PM\n",
              "14         07:10 PM\n",
              "15         09:30 PM\n",
              "16         11:00 PM\n",
              "17         06:45 PM\n",
              "18         08:50 PM\n",
              "19         04:00 PM\n",
              "20         05:15 PM\n",
              "21         05:15 PM\n",
              "22         10:30 PM\n",
              "23         07:20 PM\n",
              "24         08:00 PM\n",
              "25         10:35 PM\n",
              "26         10:35 PM\n",
              "27         09:00 PM\n",
              "28         10:00 PM\n",
              "29         08:45 PM\n",
              "             ...   \n",
              "1012692    10:20 PM\n",
              "1012693          \\N\n",
              "1012694    02:35 PM\n",
              "1012695    09:00 PM\n",
              "1012696    07:30 PM\n",
              "1012697    10:15 PM\n",
              "1012698    10:15 AM\n",
              "1012699    09:24 PM\n",
              "1012700    10:00 PM\n",
              "1012701    10:25 PM\n",
              "1012702    10:30 PM\n",
              "1012703    11:00 PM\n",
              "1012704    10:30 PM\n",
              "1012705    10:40 PM\n",
              "1012706    09:50 PM\n",
              "1012707    11:00 PM\n",
              "1012708    09:15 PM\n",
              "1012709    08:30 PM\n",
              "1012710    08:45 PM\n",
              "1012711    08:45 PM\n",
              "1012712    08:00 PM\n",
              "1012713    01:00 AM\n",
              "1012714    10:00 PM\n",
              "1012715    10:00 PM\n",
              "1012716    10:00 PM\n",
              "1012717    11:20 PM\n",
              "1012718    09:45 PM\n",
              "1012719          \\N\n",
              "1012720    05:50 PM\n",
              "1012721    08:45 PM\n",
              "Name: BoardingTime, Length: 1012722, dtype: object"
            ]
          },
          "metadata": {
            "tags": []
          },
          "execution_count": 32
        }
      ]
    },
    {
      "cell_type": "code",
      "metadata": {
        "id": "H04Ar7ad3KNA",
        "colab_type": "code",
        "outputId": "32c549a8-4848-40e7-83b5-c461bced223b",
        "colab": {
          "base_uri": "https://localhost:8080/",
          "height": 187
        }
      },
      "source": [
        "times = []\n",
        "for time in features.BoardingTime:\n",
        "    if \"AM\" in time:\n",
        "            times.append(\"Morning\")\n",
        "    elif \"PM\" in time:\n",
        "        if int(time[:1]) >= 1 and int(time[:1]) <=4:\n",
        "            times.append(\"afternoon\")\n",
        "        elif int(time[:1]) >= 4 and int(time[:1]) <=8:\n",
        "            times.append(\"evening\")\n",
        "        elif int(time[:1]) >= 8 and int(time[:1]) <=12:\n",
        "            times.append(\"night\") \n",
        "    elif \" \" in time:\n",
        "        times.append(\"Null\")\n",
        "print(times)"
      ],
      "execution_count": 0,
      "outputs": [
        {
          "output_type": "stream",
          "text": [
            "IOPub data rate exceeded.\n",
            "The notebook server will temporarily stop sending output\n",
            "to the client in order to avoid crashing it.\n",
            "To change this limit, set the config variable\n",
            "`--NotebookApp.iopub_data_rate_limit`.\n",
            "\n",
            "Current values:\n",
            "NotebookApp.iopub_data_rate_limit=1000000.0 (bytes/sec)\n",
            "NotebookApp.rate_limit_window=3.0 (secs)\n",
            "\n"
          ],
          "name": "stderr"
        }
      ]
    },
    {
      "cell_type": "code",
      "metadata": {
        "id": "-7PmR34pngIt",
        "colab_type": "code",
        "outputId": "ab78bf56-6512-41f6-ef07-c03e7e283807",
        "colab": {
          "base_uri": "https://localhost:8080/",
          "height": 51
        }
      },
      "source": [
        "from collections import Counter\n",
        "\n",
        "print(len(features[\"BoardingTime\"]))\n",
        "      \n",
        "BoardingTime_Categorize_cnt = dict(Counter(times))\n",
        "print(BoardingTime_Categorize_cnt)\n",
        "  "
      ],
      "execution_count": 0,
      "outputs": [
        {
          "output_type": "stream",
          "text": [
            "1012722\n",
            "{'afternoon': 349240, 'Morning': 12840, 'night': 178, 'evening': 5, 'Null': 19}\n"
          ],
          "name": "stdout"
        }
      ]
    },
    {
      "cell_type": "markdown",
      "metadata": {
        "id": "aK46geYC19sd",
        "colab_type": "text"
      },
      "source": [
        "So all the bus details we have travel in night only"
      ]
    },
    {
      "cell_type": "markdown",
      "metadata": {
        "id": "6ZeGCsdW2J2g",
        "colab_type": "text"
      },
      "source": [
        "# Selecting the Ticket_Amount and Perforiming EDA"
      ]
    },
    {
      "cell_type": "code",
      "metadata": {
        "id": "7YCTnZQvku0-",
        "colab_type": "code",
        "outputId": "92a8ef80-95aa-4965-9598-4914b5424b5b",
        "colab": {
          "base_uri": "https://localhost:8080/",
          "height": 170
        }
      },
      "source": [
        "print(features[\"TicketAmount\"].describe())"
      ],
      "execution_count": 0,
      "outputs": [
        {
          "output_type": "stream",
          "text": [
            "count    1.012722e+06\n",
            "mean     1.247531e+03\n",
            "std      1.177481e+03\n",
            "min     -1.780000e+03\n",
            "25%      6.500000e+02\n",
            "50%      9.000000e+02\n",
            "75%      1.400000e+03\n",
            "max      2.400000e+05\n",
            "Name: TicketAmount, dtype: float64\n"
          ],
          "name": "stdout"
        }
      ]
    },
    {
      "cell_type": "code",
      "metadata": {
        "id": "heogtvpXmvMe",
        "colab_type": "code",
        "outputId": "a796b9f3-a8cb-41c4-adf9-48dacb0c32ef",
        "colab": {
          "base_uri": "https://localhost:8080/",
          "height": 1000
        }
      },
      "source": [
        "features.groupby(['BusType']).mean()"
      ],
      "execution_count": 0,
      "outputs": [
        {
          "output_type": "execute_result",
          "data": {
            "text/html": [
              "<div>\n",
              "<style scoped>\n",
              "    .dataframe tbody tr th:only-of-type {\n",
              "        vertical-align: middle;\n",
              "    }\n",
              "\n",
              "    .dataframe tbody tr th {\n",
              "        vertical-align: top;\n",
              "    }\n",
              "\n",
              "    .dataframe thead th {\n",
              "        text-align: right;\n",
              "    }\n",
              "</style>\n",
              "<table border=\"1\" class=\"dataframe\">\n",
              "  <thead>\n",
              "    <tr style=\"text-align: right;\">\n",
              "      <th></th>\n",
              "      <th>TicketAmount</th>\n",
              "      <th>No_Of_Seats</th>\n",
              "      <th>OrdBusOperator</th>\n",
              "    </tr>\n",
              "    <tr>\n",
              "      <th>BusType</th>\n",
              "      <th></th>\n",
              "      <th></th>\n",
              "      <th></th>\n",
              "    </tr>\n",
              "  </thead>\n",
              "  <tbody>\n",
              "    <tr>\n",
              "      <th>Multi-axle Volvo AC Sleeper</th>\n",
              "      <td>2066.911765</td>\n",
              "      <td>1.257353</td>\n",
              "      <td>13.000000</td>\n",
              "    </tr>\n",
              "    <tr>\n",
              "      <th>1+1 AC Sleeper</th>\n",
              "      <td>2729.276923</td>\n",
              "      <td>1.778462</td>\n",
              "      <td>13.272308</td>\n",
              "    </tr>\n",
              "    <tr>\n",
              "      <th>2 Tier 1+1 AC Sleeper</th>\n",
              "      <td>2625.000000</td>\n",
              "      <td>1.884615</td>\n",
              "      <td>2.000000</td>\n",
              "    </tr>\n",
              "    <tr>\n",
              "      <th>2*2 Volvo AC Seater</th>\n",
              "      <td>2117.045455</td>\n",
              "      <td>1.329545</td>\n",
              "      <td>4.000000</td>\n",
              "    </tr>\n",
              "    <tr>\n",
              "      <th>2+1 - AC Diamond Class Sleeper</th>\n",
              "      <td>1812.809127</td>\n",
              "      <td>1.566099</td>\n",
              "      <td>22.312206</td>\n",
              "    </tr>\n",
              "    <tr>\n",
              "      <th>2+1 AC Classy Sleeper</th>\n",
              "      <td>2889.500000</td>\n",
              "      <td>1.333333</td>\n",
              "      <td>36.000000</td>\n",
              "    </tr>\n",
              "    <tr>\n",
              "      <th>2+1 AC SLEEPER EXECUTIVE AIR BUS</th>\n",
              "      <td>1684.707430</td>\n",
              "      <td>1.434985</td>\n",
              "      <td>17.529412</td>\n",
              "    </tr>\n",
              "    <tr>\n",
              "      <th>2+1 AC Sleeper</th>\n",
              "      <td>1817.660055</td>\n",
              "      <td>1.422323</td>\n",
              "      <td>8.377026</td>\n",
              "    </tr>\n",
              "    <tr>\n",
              "      <th>2+1 AC Sleeper Cum Seater</th>\n",
              "      <td>1200.551247</td>\n",
              "      <td>1.470914</td>\n",
              "      <td>36.000000</td>\n",
              "    </tr>\n",
              "    <tr>\n",
              "      <th>2+1 Hi-Tech Non AC</th>\n",
              "      <td>805.968644</td>\n",
              "      <td>1.382123</td>\n",
              "      <td>7.009368</td>\n",
              "    </tr>\n",
              "    <tr>\n",
              "      <th>2+1 Non AC Sleeper</th>\n",
              "      <td>2899.546991</td>\n",
              "      <td>2.408023</td>\n",
              "      <td>37.874785</td>\n",
              "    </tr>\n",
              "    <tr>\n",
              "      <th>2+1 Volvo AC Sleeper</th>\n",
              "      <td>3276.767516</td>\n",
              "      <td>1.649682</td>\n",
              "      <td>11.006369</td>\n",
              "    </tr>\n",
              "    <tr>\n",
              "      <th>2+2 AC Air Suspension</th>\n",
              "      <td>2587.555556</td>\n",
              "      <td>3.296296</td>\n",
              "      <td>38.648148</td>\n",
              "    </tr>\n",
              "    <tr>\n",
              "      <th>2+2 Executive Air Bus</th>\n",
              "      <td>1737.455734</td>\n",
              "      <td>2.291751</td>\n",
              "      <td>12.816901</td>\n",
              "    </tr>\n",
              "    <tr>\n",
              "      <th>2+2 Executive Coach</th>\n",
              "      <td>1474.530303</td>\n",
              "      <td>2.636364</td>\n",
              "      <td>41.636364</td>\n",
              "    </tr>\n",
              "    <tr>\n",
              "      <th>2+2 NON AC</th>\n",
              "      <td>995.896731</td>\n",
              "      <td>1.642527</td>\n",
              "      <td>32.798297</td>\n",
              "    </tr>\n",
              "    <tr>\n",
              "      <th>2+2 NON AC AIR SUSPENSION</th>\n",
              "      <td>1170.668495</td>\n",
              "      <td>2.020424</td>\n",
              "      <td>29.864410</td>\n",
              "    </tr>\n",
              "    <tr>\n",
              "      <th>2+2 NON AC SEMI SLEEPER</th>\n",
              "      <td>1983.333333</td>\n",
              "      <td>2.000000</td>\n",
              "      <td>33.000000</td>\n",
              "    </tr>\n",
              "    <tr>\n",
              "      <th>2+2 Non AC Executive LCD DVD Coach</th>\n",
              "      <td>1057.502319</td>\n",
              "      <td>1.585400</td>\n",
              "      <td>36.325066</td>\n",
              "    </tr>\n",
              "    <tr>\n",
              "      <th>2+2 Volvo AC Semi Sleeper</th>\n",
              "      <td>1515.755102</td>\n",
              "      <td>2.244898</td>\n",
              "      <td>63.530612</td>\n",
              "    </tr>\n",
              "    <tr>\n",
              "      <th>2+2, Sleeper/Seater,AC</th>\n",
              "      <td>1683.216867</td>\n",
              "      <td>1.409639</td>\n",
              "      <td>76.036145</td>\n",
              "    </tr>\n",
              "    <tr>\n",
              "      <th>2x1 AC Sleeper</th>\n",
              "      <td>1493.248947</td>\n",
              "      <td>1.676712</td>\n",
              "      <td>12.351353</td>\n",
              "    </tr>\n",
              "    <tr>\n",
              "      <th>2x1 Sleeper (Non A.C.)</th>\n",
              "      <td>1874.773414</td>\n",
              "      <td>4.166163</td>\n",
              "      <td>59.000000</td>\n",
              "    </tr>\n",
              "    <tr>\n",
              "      <th>2x2 AC Semi Sleeper</th>\n",
              "      <td>1450.000000</td>\n",
              "      <td>1.000000</td>\n",
              "      <td>77.000000</td>\n",
              "    </tr>\n",
              "    <tr>\n",
              "      <th>2x2 Non AC Seater</th>\n",
              "      <td>898.651706</td>\n",
              "      <td>1.650323</td>\n",
              "      <td>31.898863</td>\n",
              "    </tr>\n",
              "    <tr>\n",
              "      <th>2x2 Non AC Semi Sleeper</th>\n",
              "      <td>1926.388841</td>\n",
              "      <td>4.779399</td>\n",
              "      <td>56.416309</td>\n",
              "    </tr>\n",
              "    <tr>\n",
              "      <th>3+2 Non A/C</th>\n",
              "      <td>443.636364</td>\n",
              "      <td>1.818182</td>\n",
              "      <td>85.000000</td>\n",
              "    </tr>\n",
              "    <tr>\n",
              "      <th>A/C Mini Bus</th>\n",
              "      <td>1676.041667</td>\n",
              "      <td>1.656250</td>\n",
              "      <td>40.000000</td>\n",
              "    </tr>\n",
              "    <tr>\n",
              "      <th>AC Air Bus</th>\n",
              "      <td>1275.700935</td>\n",
              "      <td>1.476636</td>\n",
              "      <td>40.000000</td>\n",
              "    </tr>\n",
              "    <tr>\n",
              "      <th>AC CLASSY</th>\n",
              "      <td>1153.886381</td>\n",
              "      <td>1.585180</td>\n",
              "      <td>26.104631</td>\n",
              "    </tr>\n",
              "    <tr>\n",
              "      <th>...</th>\n",
              "      <td>...</td>\n",
              "      <td>...</td>\n",
              "      <td>...</td>\n",
              "    </tr>\n",
              "    <tr>\n",
              "      <th>Non/Ac Seating/sleeper</th>\n",
              "      <td>696.372093</td>\n",
              "      <td>1.465116</td>\n",
              "      <td>55.441860</td>\n",
              "    </tr>\n",
              "    <tr>\n",
              "      <th>ROYAL AC SLEEPER COACH</th>\n",
              "      <td>1175.672987</td>\n",
              "      <td>1.434877</td>\n",
              "      <td>11.000000</td>\n",
              "    </tr>\n",
              "    <tr>\n",
              "      <th>Royal A/C Classy</th>\n",
              "      <td>777.727273</td>\n",
              "      <td>1.090909</td>\n",
              "      <td>38.000000</td>\n",
              "    </tr>\n",
              "    <tr>\n",
              "      <th>Royal AC Coach</th>\n",
              "      <td>905.115080</td>\n",
              "      <td>1.513165</td>\n",
              "      <td>11.000000</td>\n",
              "    </tr>\n",
              "    <tr>\n",
              "      <th>SCANIA METROLINK HD 14.5M MULTI AXLE AC SEMI SLEEPER</th>\n",
              "      <td>1944.394580</td>\n",
              "      <td>1.246781</td>\n",
              "      <td>9.432443</td>\n",
              "    </tr>\n",
              "    <tr>\n",
              "      <th>SLEEPER CUM SEATER</th>\n",
              "      <td>1716.818182</td>\n",
              "      <td>1.363636</td>\n",
              "      <td>82.000000</td>\n",
              "    </tr>\n",
              "    <tr>\n",
              "      <th>SLEEPER CUM SEMI SLEEPER(NON AC)</th>\n",
              "      <td>967.538838</td>\n",
              "      <td>1.364731</td>\n",
              "      <td>16.381666</td>\n",
              "    </tr>\n",
              "    <tr>\n",
              "      <th>Sahara Volvo AC</th>\n",
              "      <td>4570.335714</td>\n",
              "      <td>3.724490</td>\n",
              "      <td>33.000000</td>\n",
              "    </tr>\n",
              "    <tr>\n",
              "      <th>Semi Sleeper (NON AC)</th>\n",
              "      <td>921.314879</td>\n",
              "      <td>1.224913</td>\n",
              "      <td>13.000000</td>\n",
              "    </tr>\n",
              "    <tr>\n",
              "      <th>Semi Sleeper cum Sleeper</th>\n",
              "      <td>697.492988</td>\n",
              "      <td>1.303210</td>\n",
              "      <td>0.000000</td>\n",
              "    </tr>\n",
              "    <tr>\n",
              "      <th>VOLVO</th>\n",
              "      <td>1293.003009</td>\n",
              "      <td>1.694770</td>\n",
              "      <td>15.000000</td>\n",
              "    </tr>\n",
              "    <tr>\n",
              "      <th>Volvo 2x1 A.C. Sleeper</th>\n",
              "      <td>2489.059406</td>\n",
              "      <td>1.376238</td>\n",
              "      <td>45.000000</td>\n",
              "    </tr>\n",
              "    <tr>\n",
              "      <th>Volvo A/C 2 Tier 1+1 Sleeper</th>\n",
              "      <td>2859.066442</td>\n",
              "      <td>2.078217</td>\n",
              "      <td>4.470143</td>\n",
              "    </tr>\n",
              "    <tr>\n",
              "      <th>Volvo A/C 2 Tier Sleeper</th>\n",
              "      <td>1725.983630</td>\n",
              "      <td>1.493950</td>\n",
              "      <td>31.000000</td>\n",
              "    </tr>\n",
              "    <tr>\n",
              "      <th>Volvo AC</th>\n",
              "      <td>884.196111</td>\n",
              "      <td>1.425366</td>\n",
              "      <td>8.058676</td>\n",
              "    </tr>\n",
              "    <tr>\n",
              "      <th>Volvo AC B7R 2+2</th>\n",
              "      <td>1850.000000</td>\n",
              "      <td>1.000000</td>\n",
              "      <td>4.000000</td>\n",
              "    </tr>\n",
              "    <tr>\n",
              "      <th>Volvo AC B9R Multi-Axle Semi Sleeper</th>\n",
              "      <td>1260.080836</td>\n",
              "      <td>1.511907</td>\n",
              "      <td>26.261041</td>\n",
              "    </tr>\n",
              "    <tr>\n",
              "      <th>Volvo AC B9R Multi-Axle Semi Sleeper (2+2)</th>\n",
              "      <td>1725.267019</td>\n",
              "      <td>1.514673</td>\n",
              "      <td>12.852926</td>\n",
              "    </tr>\n",
              "    <tr>\n",
              "      <th>Volvo AC Multiaxle 2+1</th>\n",
              "      <td>1154.306243</td>\n",
              "      <td>1.326659</td>\n",
              "      <td>1.000000</td>\n",
              "    </tr>\n",
              "    <tr>\n",
              "      <th>Volvo AC Seater</th>\n",
              "      <td>1178.956706</td>\n",
              "      <td>1.456706</td>\n",
              "      <td>35.067063</td>\n",
              "    </tr>\n",
              "    <tr>\n",
              "      <th>Volvo AC Seater (2+2)</th>\n",
              "      <td>811.111111</td>\n",
              "      <td>1.200000</td>\n",
              "      <td>0.133333</td>\n",
              "    </tr>\n",
              "    <tr>\n",
              "      <th>Volvo AC Semi Sleeper</th>\n",
              "      <td>1159.076216</td>\n",
              "      <td>1.433344</td>\n",
              "      <td>34.360404</td>\n",
              "    </tr>\n",
              "    <tr>\n",
              "      <th>Volvo B11R Multi-Axle Semi Sleeper Auto Transmission</th>\n",
              "      <td>1554.329424</td>\n",
              "      <td>1.278655</td>\n",
              "      <td>6.450523</td>\n",
              "    </tr>\n",
              "    <tr>\n",
              "      <th>Volvo B7R Multi Axle Seater</th>\n",
              "      <td>5550.000000</td>\n",
              "      <td>3.000000</td>\n",
              "      <td>4.000000</td>\n",
              "    </tr>\n",
              "    <tr>\n",
              "      <th>Volvo B9R Multi-Axle Seater</th>\n",
              "      <td>4413.888889</td>\n",
              "      <td>2.388889</td>\n",
              "      <td>4.000000</td>\n",
              "    </tr>\n",
              "    <tr>\n",
              "      <th>Volvo B9R Multi-Axle Semi Sleeper</th>\n",
              "      <td>1511.426381</td>\n",
              "      <td>1.376801</td>\n",
              "      <td>6.862378</td>\n",
              "    </tr>\n",
              "    <tr>\n",
              "      <th>Volvo Multi Axle AC Sleeper 2+1</th>\n",
              "      <td>2582.854785</td>\n",
              "      <td>1.326733</td>\n",
              "      <td>17.478548</td>\n",
              "    </tr>\n",
              "    <tr>\n",
              "      <th>Volvo Multi-Axel Semi Sleeper</th>\n",
              "      <td>4450.941781</td>\n",
              "      <td>3.317808</td>\n",
              "      <td>33.000000</td>\n",
              "    </tr>\n",
              "    <tr>\n",
              "      <th>Volvo Semi Sleeper</th>\n",
              "      <td>1328.208720</td>\n",
              "      <td>1.492095</td>\n",
              "      <td>7.608895</td>\n",
              "    </tr>\n",
              "    <tr>\n",
              "      <th>Volvo Sleeper</th>\n",
              "      <td>2870.460587</td>\n",
              "      <td>2.009631</td>\n",
              "      <td>4.952576</td>\n",
              "    </tr>\n",
              "  </tbody>\n",
              "</table>\n",
              "<p>119 rows × 3 columns</p>\n",
              "</div>"
            ],
            "text/plain": [
              "                                                    TicketAmount  ...  OrdBusOperator\n",
              "BusType                                                           ...                \n",
              " Multi-axle Volvo AC Sleeper                         2066.911765  ...       13.000000\n",
              "1+1 AC Sleeper                                       2729.276923  ...       13.272308\n",
              "2 Tier 1+1 AC Sleeper                                2625.000000  ...        2.000000\n",
              "2*2 Volvo AC Seater                                  2117.045455  ...        4.000000\n",
              "2+1 - AC Diamond Class Sleeper                       1812.809127  ...       22.312206\n",
              "2+1 AC Classy Sleeper                                2889.500000  ...       36.000000\n",
              "2+1 AC SLEEPER EXECUTIVE AIR BUS                     1684.707430  ...       17.529412\n",
              "2+1 AC Sleeper                                       1817.660055  ...        8.377026\n",
              "2+1 AC Sleeper Cum Seater                            1200.551247  ...       36.000000\n",
              "2+1 Hi-Tech Non AC                                    805.968644  ...        7.009368\n",
              "2+1 Non AC Sleeper                                   2899.546991  ...       37.874785\n",
              "2+1 Volvo AC Sleeper                                 3276.767516  ...       11.006369\n",
              "2+2 AC Air Suspension                                2587.555556  ...       38.648148\n",
              "2+2 Executive Air Bus                                1737.455734  ...       12.816901\n",
              "2+2 Executive Coach                                  1474.530303  ...       41.636364\n",
              "2+2 NON AC                                            995.896731  ...       32.798297\n",
              "2+2 NON AC AIR SUSPENSION                            1170.668495  ...       29.864410\n",
              "2+2 NON AC SEMI SLEEPER                              1983.333333  ...       33.000000\n",
              "2+2 Non AC Executive LCD DVD Coach                   1057.502319  ...       36.325066\n",
              "2+2 Volvo AC Semi Sleeper                            1515.755102  ...       63.530612\n",
              "2+2, Sleeper/Seater,AC                               1683.216867  ...       76.036145\n",
              "2x1 AC Sleeper                                       1493.248947  ...       12.351353\n",
              "2x1 Sleeper (Non A.C.)                               1874.773414  ...       59.000000\n",
              "2x2 AC Semi Sleeper                                  1450.000000  ...       77.000000\n",
              "2x2 Non AC Seater                                     898.651706  ...       31.898863\n",
              "2x2 Non AC Semi Sleeper                              1926.388841  ...       56.416309\n",
              "3+2 Non A/C                                           443.636364  ...       85.000000\n",
              "A/C Mini Bus                                         1676.041667  ...       40.000000\n",
              "AC Air Bus                                           1275.700935  ...       40.000000\n",
              "AC CLASSY                                            1153.886381  ...       26.104631\n",
              "...                                                          ...  ...             ...\n",
              "Non/Ac Seating/sleeper                                696.372093  ...       55.441860\n",
              "ROYAL AC SLEEPER COACH                               1175.672987  ...       11.000000\n",
              "Royal A/C Classy                                      777.727273  ...       38.000000\n",
              "Royal AC Coach                                        905.115080  ...       11.000000\n",
              "SCANIA METROLINK HD 14.5M MULTI AXLE AC SEMI SL...   1944.394580  ...        9.432443\n",
              "SLEEPER CUM SEATER                                   1716.818182  ...       82.000000\n",
              "SLEEPER CUM SEMI SLEEPER(NON AC)                      967.538838  ...       16.381666\n",
              "Sahara Volvo AC                                      4570.335714  ...       33.000000\n",
              "Semi Sleeper (NON AC)                                 921.314879  ...       13.000000\n",
              "Semi Sleeper cum Sleeper                              697.492988  ...        0.000000\n",
              "VOLVO                                                1293.003009  ...       15.000000\n",
              "Volvo 2x1 A.C. Sleeper                               2489.059406  ...       45.000000\n",
              "Volvo A/C 2 Tier 1+1 Sleeper                         2859.066442  ...        4.470143\n",
              "Volvo A/C 2 Tier Sleeper                             1725.983630  ...       31.000000\n",
              "Volvo AC                                              884.196111  ...        8.058676\n",
              "Volvo AC B7R 2+2                                     1850.000000  ...        4.000000\n",
              "Volvo AC B9R Multi-Axle Semi Sleeper                 1260.080836  ...       26.261041\n",
              "Volvo AC B9R Multi-Axle Semi Sleeper (2+2)           1725.267019  ...       12.852926\n",
              "Volvo AC Multiaxle 2+1                               1154.306243  ...        1.000000\n",
              "Volvo AC Seater                                      1178.956706  ...       35.067063\n",
              "Volvo AC Seater (2+2)                                 811.111111  ...        0.133333\n",
              "Volvo AC Semi Sleeper                                1159.076216  ...       34.360404\n",
              "Volvo B11R Multi-Axle Semi Sleeper Auto Transmi...   1554.329424  ...        6.450523\n",
              "Volvo B7R Multi Axle Seater                          5550.000000  ...        4.000000\n",
              "Volvo B9R Multi-Axle Seater                          4413.888889  ...        4.000000\n",
              "Volvo B9R Multi-Axle Semi Sleeper                    1511.426381  ...        6.862378\n",
              "Volvo Multi Axle AC Sleeper 2+1                      2582.854785  ...       17.478548\n",
              "Volvo Multi-Axel Semi Sleeper                        4450.941781  ...       33.000000\n",
              "Volvo Semi Sleeper                                   1328.208720  ...        7.608895\n",
              "Volvo Sleeper                                        2870.460587  ...        4.952576\n",
              "\n",
              "[119 rows x 3 columns]"
            ]
          },
          "metadata": {
            "tags": []
          },
          "execution_count": 36
        }
      ]
    },
    {
      "cell_type": "code",
      "metadata": {
        "id": "eyJrBR3Ynr1v",
        "colab_type": "code",
        "outputId": "b972c294-bdd0-4d41-af30-b796c7eb1096",
        "colab": {
          "base_uri": "https://localhost:8080/",
          "height": 1000
        }
      },
      "source": [
        "# Grouping the BusType w.r.t Ticket Amount\n",
        "features['BusTypeCOUNTER'] =1       #initially, set that counter to 1.\n",
        "group_data = features.groupby(['BusType','TicketAmount'])['BusTypeCOUNTER'].sum() #sum function\n",
        "print(group_data)"
      ],
      "execution_count": 0,
      "outputs": [
        {
          "output_type": "stream",
          "text": [
            "BusType                       TicketAmount\n",
            " Multi-axle Volvo AC Sleeper  180.0             1\n",
            "                              360.0             2\n",
            "                              400.0             1\n",
            "                              1350.0           10\n",
            "                              1450.0            2\n",
            "                              1500.0            5\n",
            "                              1550.0           60\n",
            "                              1600.0           17\n",
            "                              1650.0           66\n",
            "                              1700.0           10\n",
            "                              1750.0            1\n",
            "                              1800.0            2\n",
            "                              1850.0           30\n",
            "                              1900.0            9\n",
            "                              2050.0            4\n",
            "                              2400.0            2\n",
            "                              2700.0            1\n",
            "                              3000.0            1\n",
            "                              3100.0            5\n",
            "                              3200.0            1\n",
            "                              3300.0           15\n",
            "                              3400.0            3\n",
            "                              3500.0            1\n",
            "                              3700.0            4\n",
            "                              3800.0            5\n",
            "                              4100.0            2\n",
            "                              4650.0            1\n",
            "                              4800.0            1\n",
            "                              4950.0            4\n",
            "                              5100.0            2\n",
            "                                             ... \n",
            "Volvo Sleeper                 6800.0            5\n",
            "                              7000.0          110\n",
            "                              7200.0          114\n",
            "                              7236.0            1\n",
            "                              7800.0            2\n",
            "                              8000.0           27\n",
            "                              8200.0            4\n",
            "                              8400.0           99\n",
            "                              9000.0           20\n",
            "                              9400.0           21\n",
            "                              9600.0           13\n",
            "                              9800.0           14\n",
            "                              10800.0          26\n",
            "                              11200.0          23\n",
            "                              12600.0          20\n",
            "                              13000.0           2\n",
            "                              14000.0           7\n",
            "                              14400.0          10\n",
            "                              14800.0           5\n",
            "                              15400.0           3\n",
            "                              16000.0           1\n",
            "                              16200.0          10\n",
            "                              16800.0           5\n",
            "                              17600.0           1\n",
            "                              18000.0           2\n",
            "                              18800.0           1\n",
            "                              19200.0           1\n",
            "                              19800.0           2\n",
            "                              20000.0           1\n",
            "                              21600.0           3\n",
            "Name: BusTypeCOUNTER, Length: 12392, dtype: int64\n"
          ],
          "name": "stdout"
        }
      ]
    },
    {
      "cell_type": "code",
      "metadata": {
        "id": "Dcm9CAPmtDaf",
        "colab_type": "code",
        "outputId": "537a018f-0e48-43c1-83dc-097cae002503",
        "colab": {
          "base_uri": "https://localhost:8080/",
          "height": 1000
        }
      },
      "source": [
        "# Grouping the BusType w.r.t Ticket Amount\n",
        "features['SourceCOUNTER'] =1       #initially, set that counter to 1.\n",
        "group_data = features.groupby(['Source','TicketAmount'])['SourceCOUNTER'].sum() #sum function\n",
        "print(group_data)"
      ],
      "execution_count": 0,
      "outputs": [
        {
          "output_type": "stream",
          "text": [
            "Source          TicketAmount\n",
            "A.S.Peta        560.0            1\n",
            "                670.0           10\n",
            "                780.0            9\n",
            "                1340.0           3\n",
            "                2010.0           2\n",
            "                2680.0           2\n",
            "                3350.0           1\n",
            "                4020.0           1\n",
            "Achanta         500.0            4\n",
            "                560.0            1\n",
            "                1000.0           3\n",
            "                1680.0           1\n",
            "                2000.0           5\n",
            "                2500.0          13\n",
            "                2800.0           1\n",
            "                3000.0          19\n",
            "                3360.0           4\n",
            "                4020.0           2\n",
            "Adda Road       500.0            2\n",
            "                560.0            8\n",
            "                610.0            9\n",
            "                650.0            3\n",
            "                670.0           11\n",
            "                690.0            2\n",
            "                700.0            2\n",
            "                720.0            4\n",
            "                750.0            1\n",
            "                780.0            9\n",
            "                800.0            1\n",
            "                890.0            5\n",
            "                                ..\n",
            "karur           610.0           31\n",
            "                710.0            1\n",
            "                820.0            1\n",
            "                1220.0           3\n",
            "                1340.0           7\n",
            "                1360.0          56\n",
            "                1390.0          27\n",
            "                1420.0           1\n",
            "                1830.0           2\n",
            "                2400.0           1\n",
            "                2720.0           7\n",
            "                2780.0           1\n",
            "                4170.0           1\n",
            "kodakara        750.0            1\n",
            "                1000.0           2\n",
            "                1200.0           1\n",
            "                1250.0           1\n",
            "                1600.0           3\n",
            "                3200.0           1\n",
            "kurupumthara    800.0            1\n",
            "vadakkanchery   750.0            4\n",
            "                1000.0           3\n",
            "                1150.0           1\n",
            "                1160.0           1\n",
            "                1250.0           2\n",
            "                1260.0           3\n",
            "                1500.0           2\n",
            "                1550.0           1\n",
            "                4500.0           1\n",
            "vasudevanallur  900.0            1\n",
            "Name: SourceCOUNTER, Length: 18346, dtype: int64\n"
          ],
          "name": "stdout"
        }
      ]
    },
    {
      "cell_type": "markdown",
      "metadata": {
        "id": "7_H5hKXEuTro",
        "colab_type": "text"
      },
      "source": [
        "# Selecting the BookedDate and Performing EDA"
      ]
    },
    {
      "cell_type": "code",
      "metadata": {
        "id": "6zr_Japmlaxl",
        "colab_type": "code",
        "colab": {}
      },
      "source": [
        ""
      ],
      "execution_count": 0,
      "outputs": []
    },
    {
      "cell_type": "code",
      "metadata": {
        "id": "tpF2wBa2uaaV",
        "colab_type": "code",
        "outputId": "2903175d-dcb7-4803-d66a-c4b3013365f9",
        "colab": {
          "base_uri": "https://localhost:8080/",
          "height": 204
        }
      },
      "source": [
        "print(features.columns)\n",
        "print(features[\"BookedDate\"].describe())"
      ],
      "execution_count": 0,
      "outputs": [
        {
          "output_type": "stream",
          "text": [
            "Index(['Source', 'Destination', 'DOJ', 'OperatorName', 'BusType',\n",
            "       'ServiceType', 'BoardingTime', 'DroppingTime', 'Mobile', 'Age',\n",
            "       'Gender', 'Insurance', 'CouponCode', 'TicketAmount', 'No_Of_Seats',\n",
            "       'BookingPlatform', 'BookedDate', 'CancellationDate', 'APISource',\n",
            "       'OrdBusOperator', 'BusTypeCOUNTER', 'SourceCOUNTER'],\n",
            "      dtype='object')\n",
            "count        1012722\n",
            "unique           131\n",
            "top       2015-05-26\n",
            "freq           15681\n",
            "Name: BookedDate, dtype: object\n"
          ],
          "name": "stdout"
        }
      ]
    },
    {
      "cell_type": "code",
      "metadata": {
        "id": "tg71wZrfvBAJ",
        "colab_type": "code",
        "colab": {}
      },
      "source": [
        "# Calculating the Days diffrence between the DOJ and BookedDate\n",
        "DaysDifference = []\n",
        "from datetime import datetime\n",
        "date_format = \"%Y-%m-%d\"\n",
        "\n",
        "for BookedDate, DOJ in zip(features.BookedDate, features.DOJ):\n",
        "    a = datetime.strptime(BookedDate, date_format)\n",
        "    b = datetime.strptime(DOJ, date_format)\n",
        "    delta = b - a\n",
        "    #print(delta.days)\n",
        "    DaysDifference.append(delta.days)\n"
      ],
      "execution_count": 0,
      "outputs": []
    },
    {
      "cell_type": "markdown",
      "metadata": {
        "id": "ST5feMvF0Biw",
        "colab_type": "text"
      },
      "source": [
        "# Selecting the CancellationDate and Performing EDA"
      ]
    },
    {
      "cell_type": "code",
      "metadata": {
        "id": "6PDubxgr0Zhc",
        "colab_type": "code",
        "outputId": "bc06bfad-761c-4150-b960-c9f8d48e87cf",
        "colab": {
          "base_uri": "https://localhost:8080/",
          "height": 119
        }
      },
      "source": [
        "print(\"Description\")\n",
        "print(features[\"CancellationDate\"].describe())"
      ],
      "execution_count": 0,
      "outputs": [
        {
          "output_type": "stream",
          "text": [
            "Description\n",
            "count           2405\n",
            "unique            41\n",
            "top       2015-04-01\n",
            "freq             822\n",
            "Name: CancellationDate, dtype: object\n"
          ],
          "name": "stdout"
        }
      ]
    },
    {
      "cell_type": "code",
      "metadata": {
        "id": "3OphDZadt6XH",
        "colab_type": "code",
        "outputId": "96274bcf-b84f-4140-efcb-c06511995bb3",
        "colab": {
          "base_uri": "https://localhost:8080/",
          "height": 51
        }
      },
      "source": [
        "UniqueList = []\n",
        "print(\"Null Values in CancellationDate\",features[\"CancellationDate\"].isnull().sum())\n",
        "print(\"Total numberz of rows in ConcellationDate\",len(features[\"CancellationDate\"]))"
      ],
      "execution_count": 0,
      "outputs": [
        {
          "output_type": "stream",
          "text": [
            "Null Values in CancellationDate 1010317\n",
            "Total numberz of rows in ConcellationDate 1012722\n"
          ],
          "name": "stdout"
        }
      ]
    },
    {
      "cell_type": "code",
      "metadata": {
        "id": "WCnZEBST0lWx",
        "colab_type": "code",
        "outputId": "d30ffbd5-7e7d-4682-b9f3-fa6a8be35694",
        "colab": {
          "base_uri": "https://localhost:8080/",
          "height": 54
        }
      },
      "source": [
        "# Finalizing whether User have cancelled Ticket or not\n",
        "import math\n",
        "Cancellation_Pool = []\n",
        "for cancel in features[\"CancellationDate\"]:\n",
        "    if type(cancel) is float:\n",
        "        if math.isnan(val):\n",
        "            Cancellation_Pool.append(\"0\")\n",
        "    else:\n",
        "        Cancellation_Pool.append(\"1\")\n",
        "print(\"Cancellation_Pool\",Cancellation_Pool)        \n"
      ],
      "execution_count": 0,
      "outputs": [
        {
          "output_type": "stream",
          "text": [
            "Cancellation_Pool ['1', '1', '1', '1', '1', '1', '1', '1', '1', '1', '1', '1', '1', '1', '1', '1', '1', '1', '1', '1', '1', '1', '1', '1', '1', '1', '1', '1', '1', '1', '1', '1', '1', '1', '1', '1', '1', '1', '1', '1', '1', '1', '1', '1', '1', '1', '1', '1', '1', '1', '1', '1', '1', '1', '1', '1', '1', '1', '1', '1', '1', '1', '1', '1', '1', '1', '1', '1', '1', '1', '1', '1', '1', '1', '1', '1', '1', '1', '1', '1', '1', '1', '1', '1', '1', '1', '1', '1', '1', '1', '1', '1', '1', '1', '1', '1', '1', '1', '1', '1', '1', '1', '1', '1', '1', '1', '1', '1', '1', '1', '1', '1', '1', '1', '1', '1', '1', '1', '1', '1', '1', '1', '1', '1', '1', '1', '1', '1', '1', '1', '1', '1', '1', '1', '1', '1', '1', '1', '1', '1', '1', '1', '1', '1', '1', '1', '1', '1', '1', '1', '1', '1', '1', '1', '1', '1', '1', '1', '1', '1', '1', '1', '1', '1', '1', '1', '1', '1', '1', '1', '1', '1', '1', '1', '1', '1', '1', '1', '1', '1', '1', '1', '1', '1', '1', '1', '1', '1', '1', '1', '1', '1', '1', '1', '1', '1', '1', '1', '1', '1', '1', '1', '1', '1', '1', '1', '1', '1', '1', '1', '1', '1', '1', '1', '1', '1', '1', '1', '1', '1', '1', '1', '1', '1', '1', '1', '1', '1', '1', '1', '1', '1', '1', '1', '1', '1', '1', '1', '1', '1', '1', '1', '1', '1', '1', '1', '1', '1', '1', '1', '1', '1', '1', '1', '1', '1', '1', '1', '1', '1', '1', '1', '1', '1', '1', '1', '1', '1', '1', '1', '1', '1', '1', '1', '1', '1', '1', '1', '1', '1', '1', '1', '1', '1', '1', '1', '1', '1', '1', '1', '1', '1', '1', '1', '1', '1', '1', '1', '1', '1', '1', '1', '1', '1', '1', '1', '1', '1', '1', '1', '1', '1', '1', '1', '1', '1', '1', '1', '1', '1', '1', '1', '1', '1', '1', '1', '1', '1', '1', '1', '1', '1', '1', '1', '1', '1', '1', '1', '1', '1', '1', '1', '1', '1', '1', '1', '1', '1', '1', '1', '1', '1', '1', '1', '1', '1', '1', '1', '1', '1', '1', '1', '1', '1', '1', '1', '1', '1', '1', '1', '1', '1', '1', '1', '1', '1', '1', '1', '1', '1', '1', '1', '1', '1', '1', '1', '1', '1', '1', '1', '1', '1', '1', '1', '1', '1', '1', '1', '1', '1', '1', '1', '1', '1', '1', '1', '1', '1', '1', '1', '1', '1', '1', '1', '1', '1', '1', '1', '1', '1', '1', '1', '1', '1', '1', '1', '1', '1', '1', '1', '1', '1', '1', '1', '1', '1', '1', '1', '1', '1', '1', '1', '1', '1', '1', '1', '1', '1', '1', '1', '1', '1', '1', '1', '1', '1', '1', '1', '1', '1', '1', '1', '1', '1', '1', '1', '1', '1', '1', '1', '1', '1', '1', '1', '1', '1', '1', '1', '1', '1', '1', '1', '1', '1', '1', '1', '1', '1', '1', '1', '1', '1', '1', '1', '1', '1', '1', '1', '1', '1', '1', '1', '1', '1', '1', '1', '1', '1', '1', '1', '1', '1', '1', '1', '1', '1', '1', '1', '1', '1', '1', '1', '1', '1', '1', '1', '1', '1', '1', '1', '1', '1', '1', '1', '1', '1', '1', '1', '1', '1', '1', '1', '1', '1', '1', '1', '1', '1', '1', '1', '1', '1', '1', '1', '1', '1', '1', '1', '1', '1', '1', '1', '1', '1', '1', '1', '1', '1', '1', '1', '1', '1', '1', '1', '1', '1', '1', '1', '1', '1', '1', '1', '1', '1', '1', '1', '1', '1', '1', '1', '1', '1', '1', '1', '1', '1', '1', '1', '1', '1', '1', '1', '1', '1', '1', '1', '1', '1', '1', '1', '1', '1', '1', '1', '1', '1', '1', '1', '1', '1', '1', '1', '1', '1', '1', '1', '1', '1', '1', '1', '1', '1', '1', '1', '1', '1', '1', '1', '1', '1', '1', '1', '1', '1', '1', '1', '1', '1', '1', '1', '1', '1', '1', '1', '1', '1', '1', '1', '1', '1', '1', '1', '1', '1', '1', '1', '1', '1', '1', '1', '1', '1', '1', '1', '1', '1', '1', '1', '1', '1', '1', '1', '1', '1', '1', '1', '1', '1', '1', '1', '1', '1', '1', '1', '1', '1', '1', '1', '1', '1', '1', '1', '1', '1', '1', '1', '1', '1', '1', '1', '1', '1', '1', '1', '1', '1', '1', '1', '1', '1', '1', '1', '1', '1', '1', '1', '1', '1', '1', '1', '1', '1', '1', '1', '1', '1', '1', '1', '1', '1', '1', '1', '1', '1', '1', '1', '1', '1', '1', '1', '1', '1', '1', '1', '1', '1', '1', '1', '1', '1', '1', '1', '1', '1', '1', '1', '1', '1', '1', '1', '1', '1', '1', '1', '1', '1', '1', '1', '1', '1', '1', '1', '1', '1', '1', '1', '1', '1', '1', '1', '1', '1', '1', '1', '1', '1', '1', '1', '1', '1', '1', '1', '1', '1', '1', '1', '1', '1', '1', '1', '1', '1', '1', '1', '1', '1', '1', '1', '1', '1', '1', '1', '1', '1', '1', '1', '1', '1', '1', '1', '1', '1', '1', '1', '1', '1', '1', '1', '1', '1', '1', '1', '1', '1', '1', '1', '1', '1', '1', '1', '1', '1', '1', '1', '1', '1', '1', '1', '1', '1', '1', '1', '1', '1', '1', '1', '1', '1', '1', '1', '1', '1', '1', '1', '1', '1', '1', '1', '1', '1', '1', '1', '1', '1', '1', '1', '1', '1', '1', '1', '1', '1', '1', '1', '1', '1', '1', '1', '1', '1', '1', '1', '1', '1', '1', '1', '1', '1', '1', '1', '1', '1', '1', '1', '1', '1', '1', '1', '1', '1', '1', '1', '1', '1', '1', '1', '1', '1', '1', '1', '1', '1', '1', '1', '1', '1', '1', '1', '1', '1', '1', '1', '1', '1', '1', '1', '1', '1', '1', '1', '1', '1', '1', '1', '1', '1', '1', '1', '1', '1', '1', '1', '1', '1', '1', '1', '1', '1', '1', '1', '1', '1', '1', '1', '1', '1', '1', '1', '1', '1', '1', '1', '1', '1', '1', '1', '1', '1', '1', '1', '1', '1', '1', '1', '1', '1', '1', '1', '1', '1', '1', '1', '1', '1', '1', '1', '1', '1', '1', '1', '1', '1', '1', '1', '1', '1', '1', '1', '1', '1', '1', '1', '1', '1', '1', '1', '1', '1', '1', '1', '1', '1', '1', '1', '1', '1', '1', '1', '1', '1', '1', '1', '1', '1', '1', '1', '1', '1', '1', '1', '1', '1', '1', '1', '1', '1', '1', '1', '1', '1', '1', '1', '1', '1', '1', '1', '1', '1', '1', '1', '1', '1', '1', '1', '1', '1', '1', '1', '1', '1', '1', '1', '1', '1', '1', '1', '1', '1', '1', '1', '1', '1', '1', '1', '1', '1', '1', '1', '1', '1', '1', '1', '1', '1', '1', '1', '1', '1', '1', '1', '1', '1', '1', '1', '1', '1', '1', '1', '1', '1', '1', '1', '1', '1', '1', '1', '1', '1', '1', '1', '1', '1', '1', '1', '1', '1', '1', '1', '1', '1', '1', '1', '1', '1', '1', '1', '1', '1', '1', '1', '1', '1', '1', '1', '1', '1', '1', '1', '1', '1', '1', '1', '1', '1', '1', '1', '1', '1', '1', '1', '1', '1', '1', '1', '1', '1', '1', '1', '1', '1', '1', '1', '1', '1', '1', '1', '1', '1', '1', '1', '1', '1', '1', '1', '1', '1', '1', '1', '1', '1', '1', '1', '1', '1', '1', '1', '1', '1', '1', '1', '1', '1', '1', '1', '1', '1', '1', '1', '1', '1', '1', '1', '1', '1', '1', '1', '1', '1', '1', '1', '1', '1', '1', '1', '1', '1', '1', '1', '1', '1', '1', '1', '1', '1', '1', '1', '1', '1', '1', '1', '1', '1', '1', '1', '1', '1', '1', '1', '1', '1', '1', '1', '1', '1', '1', '1', '1', '1', '1', '1', '1', '1', '1', '1', '1', '1', '1', '1', '1', '1', '1', '1', '1', '1', '1', '1', '1', '1', '1', '1', '1', '1', '1', '1', '1', '1', '1', '1', '1', '1', '1', '1', '1', '1', '1', '1', '1', '1', '1', '1', '1', '1', '1', '1', '1', '1', '1', '1', '1', '1', '1', '1', '1', '1', '1', '1', '1', '1', '1', '1', '1', '1', '1', '1', '1', '1', '1', '1', '1', '1', '1', '1', '1', '1', '1', '1', '1', '1', '1', '1', '1', '1', '1', '1', '1', '1', '1', '1', '1', '1', '1', '1', '1', '1', '1', '1', '1', '1', '1', '1', '1', '1', '1', '1', '1', '1', '1', '1', '1', '1', '1', '1', '1', '1', '1', '1', '1', '1', '1', '1', '1', '1', '1', '1', '1', '1', '1', '1', '1', '1', '1', '1', '1', '1', '1', '1', '1', '1', '1', '1', '1', '1', '1', '1', '1', '1', '1', '1', '1', '1', '1', '1', '1', '1', '1', '1', '1', '1', '1', '1', '1', '1', '1', '1', '1', '1', '1', '1', '1', '1', '1', '1', '1', '1', '1', '1', '1', '1', '1', '1', '1', '1', '1', '1', '1', '1', '1', '1', '1', '1', '1', '1', '1', '1', '1', '1', '1', '1', '1', '1', '1', '1', '1', '1', '1', '1', '1', '1', '1', '1', '1', '1', '1', '1', '1', '1', '1', '1', '1', '1', '1', '1', '1', '1', '1', '1', '1', '1', '1', '1', '1', '1', '1', '1', '1', '1', '1', '1', '1', '1', '1', '1', '1', '1', '1', '1', '1', '1', '1', '1', '1', '1', '1', '1', '1', '1', '1', '1', '1', '1', '1', '1', '1', '1', '1', '1', '1', '1', '1', '1', '1', '1', '1', '1', '1', '1', '1', '1', '1', '1', '1', '1', '1', '1', '1', '1', '1', '1', '1', '1', '1', '1', '1', '1', '1', '1', '1', '1', '1', '1', '1', '1', '1', '1', '1', '1', '1', '1', '1', '1', '1', '1', '1', '1', '1', '1', '1', '1', '1', '1', '1', '1', '1', '1', '1', '1', '1', '1', '1', '1', '1', '1', '1', '1', '1', '1', '1', '1', '1', '1', '1', '1', '1', '1', '1', '1', '1', '1', '1', '1', '1', '1', '1', '1', '1', '1', '1', '1', '1', '1', '1', '1', '1', '1', '1', '1', '1', '1', '1', '1', '1', '1', '1', '1', '1', '1', '1', '1', '1', '1', '1', '1', '1', '1', '1', '1', '1', '1', '1', '1', '1', '1', '1', '1', '1', '1', '1', '1', '1', '1', '1', '1', '1', '1', '1', '1', '1', '1', '1', '1', '1', '1', '1', '1', '1', '1', '1', '1', '1', '1', '1', '1', '1', '1', '1', '1', '1', '1', '1', '1', '1', '1', '1', '1', '1', '1', '1', '1', '1', '1', '1', '1', '1', '1', '1', '1', '1', '1', '1', '1', '1', '1', '1', '1', '1', '1', '1', '1', '1', '1', '1', '1', '1', '1', '1', '1', '1', '1', '1', '1', '1', '1', '1', '1', '1', '1', '1', '1', '1', '1', '1', '1', '1', '1', '1', '1', '1', '1', '1', '1', '1', '1', '1', '1', '1', '1', '1', '1', '1', '1', '1', '1', '1', '1', '1', '1', '1', '1', '1', '1', '1', '1', '1', '1', '1', '1', '1', '1', '1', '1', '1', '1', '1', '1', '1', '1', '1', '1', '1', '1', '1', '1', '1', '1', '1', '1', '1', '1', '1', '1', '1', '1', '1', '1', '1', '1', '1', '1', '1', '1', '1', '1', '1', '1', '1', '1', '1', '1', '1', '1', '1', '1', '1', '1', '1', '1', '1', '1', '1', '1', '1', '1', '1', '1', '1', '1', '1', '1', '1', '1', '1', '1', '1', '1', '1', '1', '1', '1', '1', '1', '1', '1', '1', '1', '1', '1', '1', '1', '1', '1', '1', '1', '1', '1', '1', '1', '1', '1', '1', '1', '1', '1', '1', '1', '1', '1', '1', '1', '1', '1', '1', '1', '1', '1', '1', '1', '1', '1', '1', '1', '1', '1', '1', '1', '1', '1', '1', '1', '1', '1', '1', '1', '1', '1', '1', '1', '1', '1', '1', '1', '1', '1', '1', '1', '1', '1', '1', '1', '1', '1', '1', '1', '1', '1', '1', '1', '1', '1', '1', '1', '1', '1', '1', '1', '1', '1', '1', '1', '1', '1', '1', '1', '1', '1', '1', '1', '1', '1', '1', '1', '1', '1', '1', '1', '1', '1', '1', '1', '1', '1', '1', '1', '1', '1', '1', '1', '1', '1', '1', '1', '1', '1', '1', '1', '1', '1', '1', '1', '1', '1', '1', '1', '1', '1', '1', '1', '1', '1', '1', '1', '1', '1', '1', '1', '1', '1', '1', '1', '1', '1', '1', '1', '1', '1', '1', '1', '1', '1', '1', '1', '1', '1', '1', '1', '1', '1', '1', '1', '1', '1', '1', '1', '1', '1', '1', '1', '1', '1', '1', '1', '1', '1', '1', '1', '1', '1', '1', '1', '1', '1', '1', '1', '1', '1', '1', '1', '1', '1', '1', '1', '1', '1', '1', '1', '1', '1', '1', '1', '1', '1', '1', '1', '1', '1', '1', '1', '1', '1', '1', '1', '1', '1', '1', '1', '1', '1', '1', '1', '1', '1', '1', '1', '1', '1', '1', '1', '1', '1', '1', '1', '1', '1', '1', '1', '1', '1', '1', '1', '1', '1', '1', '1', '1', '1', '1', '1', '1', '1', '1', '1', '1', '1', '1', '1', '1', '1', '1', '1', '1', '1', '1', '1', '1', '1', '1', '1', '1', '1', '1', '1', '1', '1', '1', '1', '1', '1', '1', '1', '1', '1', '1', '1', '1', '1', '1', '1', '1', '1', '1', '1', '1', '1', '1', '1', '1', '1', '1', '1', '1', '1', '1', '1', '1', '1', '1', '1', '1', '1', '1', '1', '1', '1', '1', '1', '1', '1', '1', '1', '1', '1', '1', '1', '1', '1', '1', '1', '1', '1', '1', '1', '1', '1', '1', '1', '1', '1', '1', '1', '1', '1', '1', '1', '1', '1', '1', '1', '1', '1', '1', '1', '1', '1', '1', '1', '1', '1', '1', '1', '1', '1', '1', '1', '1', '1', '1', '1', '1', '1', '1', '1', '1', '1', '1', '1', '1', '1', '1', '1', '1', '1', '1', '1', '1', '1', '1', '1', '1', '1', '1', '1', '1', '1', '1', '1', '1', '1', '1', '1', '1', '1', '1', '1', '1', '1', '1', '1', '1', '1', '1', '1', '1', '1', '1', '1', '1', '1', '1', '1', '1', '1', '1', '1', '1', '1', '1', '1', '1', '1', '1', '1', '1', '1', '1', '1', '1', '1', '1', '1', '1', '1', '1', '1', '1', '1', '1', '1', '1', '1', '1', '1', '1', '1', '1', '1', '1', '1', '1', '1', '1', '1', '1', '1', '1', '1', '1', '1', '1', '1', '1', '1', '1', '1', '1', '1', '1', '1', '1', '1', '1', '1', '1', '1', '1', '1', '1', '1', '1', '1', '1', '1', '1', '1', '1', '1', '1', '1', '1', '1', '1', '1', '1', '1', '1', '1', '1', '1', '1', '1', '1', '1', '1', '1', '1', '1', '1', '1', '1', '1', '1', '1', '1', '1', '1', '1', '1', '1', '1', '1', '1', '1', '1', '1', '1', '1', '1']\n"
          ],
          "name": "stdout"
        }
      ]
    },
    {
      "cell_type": "code",
      "metadata": {
        "id": "DnEYTMQMF49L",
        "colab_type": "code",
        "outputId": "e635cd80-b641-48b8-932f-c367eb4c04f6",
        "colab": {
          "base_uri": "https://localhost:8080/",
          "height": 163
        }
      },
      "source": [
        "--NotebookApp.iopub_data_rate_limit"
      ],
      "execution_count": 0,
      "outputs": [
        {
          "output_type": "error",
          "ename": "NameError",
          "evalue": "ignored",
          "traceback": [
            "\u001b[0;31m---------------------------------------------------------------------------\u001b[0m",
            "\u001b[0;31mNameError\u001b[0m                                 Traceback (most recent call last)",
            "\u001b[0;32m<ipython-input-44-f9252874d530>\u001b[0m in \u001b[0;36m<module>\u001b[0;34m()\u001b[0m\n\u001b[0;32m----> 1\u001b[0;31m \u001b[0;34m-\u001b[0m\u001b[0;34m-\u001b[0m\u001b[0mNotebookApp\u001b[0m\u001b[0;34m.\u001b[0m\u001b[0miopub_data_rate_limit\u001b[0m\u001b[0;34m\u001b[0m\u001b[0;34m\u001b[0m\u001b[0m\n\u001b[0m",
            "\u001b[0;31mNameError\u001b[0m: name 'NotebookApp' is not defined"
          ]
        }
      ]
    },
    {
      "cell_type": "code",
      "metadata": {
        "id": "bUXWbS07CYXR",
        "colab_type": "code",
        "colab": {}
      },
      "source": [
        "converted_CancellationDate = []\n",
        "for cancel in features.CancellationDate:\n",
        "    converted_CancellationDate.append(str(cancel))\n",
        "\n",
        "converted_DOJDate = []\n",
        "for doj in features.DOJ:\n",
        "    converted_DOJDate.append(str(doj))\n",
        "    \n",
        "   \n"
      ],
      "execution_count": 0,
      "outputs": []
    },
    {
      "cell_type": "code",
      "metadata": {
        "id": "NmD-RLr31l1t",
        "colab_type": "code",
        "colab": {}
      },
      "source": [
        "# Calculating the cancellation w.r.t the no of days before the DOJ\n",
        "Before_Days_DOJ = []\n",
        "import math\n",
        "date_format = \"%Y-%m-%d\"\n",
        "for cancellation,CD,DOJ in zip(Cancellation_Pool,converted_CancellationDate, converted_DOJDate):\n",
        "    if cancellation == \"1\":\n",
        "        if math.isNaN(DOJ):\n",
        "            print(\"Blank\")\n",
        "            Before_Days_DOJ.append(\"Null\")\n",
        "        else:\n",
        "            print(type(CD))\n",
        "            print(type(DOJ))\n",
        "            a = datetime.strptime(str(CD), date_format)\n",
        "            b = datetime.strptime(str(DOJ), date_format)\n",
        "            delta = b - a\n",
        "            print(delta.days)\n",
        "            Before_Days_DOJ.append(delta.days)\n",
        "\n",
        "print(\"Cancellation of Ticket before DOJ\", Before_Days_DOJ)"
      ],
      "execution_count": 0,
      "outputs": []
    }
  ]
}